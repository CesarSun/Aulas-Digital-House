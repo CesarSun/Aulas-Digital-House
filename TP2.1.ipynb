{
 "cells": [
  {
   "cell_type": "code",
   "execution_count": 59,
   "id": "cfdc6966-4a05-4ee9-a778-abe94e429563",
   "metadata": {},
   "outputs": [],
   "source": [
    "import pandas as pd\n",
    "import numpy as np\n",
    "import matplotlib.pyplot as plt\n",
    "import seaborn as sns\n",
    "import itertools\n",
    "import plotly.express as px\n",
    "import warnings\n",
    "warnings.filterwarnings('ignore')\n",
    "\n",
    "#from sklearn.metrics import r2_score, mean_squared_error\n",
    "from sklearn.metrics import mean_absolute_error, mean_squared_error, r2_score\n",
    "from sklearn.linear_model import LinearRegression\n",
    "from sklearn.ensemble import RandomForestRegressor, ExtraTreesRegressor\n",
    "from sklearn.model_selection import train_test_split\n",
    "from sklearn.linear_model import Ridge\n",
    "from sklearn.linear_model import Lasso\n",
    "from sklearn.linear_model import ElasticNet"
   ]
  },
  {
   "cell_type": "markdown",
   "id": "a8c765ee-9e8e-426c-8575-145cf051a565",
   "metadata": {
    "jp-MarkdownHeadingCollapsed": true,
    "tags": []
   },
   "source": [
    "### Leituras"
   ]
  },
  {
   "cell_type": "code",
   "execution_count": 2,
   "id": "345cac4e-8569-40af-b6f7-8b32722903ca",
   "metadata": {},
   "outputs": [],
   "source": [
    "df_properati = pd.read_csv('./DHDSPaDM1A7/Data/Real_State_Properati.csv', sep='\\t')"
   ]
  },
  {
   "cell_type": "code",
   "execution_count": 3,
   "id": "819d5d09-6eb6-426d-b324-db78a48a15f4",
   "metadata": {},
   "outputs": [
    {
     "data": {
      "text/html": [
       "<div>\n",
       "<style scoped>\n",
       "    .dataframe tbody tr th:only-of-type {\n",
       "        vertical-align: middle;\n",
       "    }\n",
       "\n",
       "    .dataframe tbody tr th {\n",
       "        vertical-align: top;\n",
       "    }\n",
       "\n",
       "    .dataframe thead th {\n",
       "        text-align: right;\n",
       "    }\n",
       "</style>\n",
       "<table border=\"1\" class=\"dataframe\">\n",
       "  <thead>\n",
       "    <tr style=\"text-align: right;\">\n",
       "      <th></th>\n",
       "      <th>property_type</th>\n",
       "      <th>place_name</th>\n",
       "      <th>country_name</th>\n",
       "      <th>state_name</th>\n",
       "      <th>lat</th>\n",
       "      <th>lon</th>\n",
       "      <th>price</th>\n",
       "      <th>currency</th>\n",
       "      <th>surface_total_in_m2</th>\n",
       "    </tr>\n",
       "  </thead>\n",
       "  <tbody>\n",
       "    <tr>\n",
       "      <th>0</th>\n",
       "      <td>PH</td>\n",
       "      <td>Mataderos</td>\n",
       "      <td>Argentina</td>\n",
       "      <td>Capital Federal</td>\n",
       "      <td>-34.661824</td>\n",
       "      <td>-58.508839</td>\n",
       "      <td>62000.0</td>\n",
       "      <td>USD</td>\n",
       "      <td>55.0</td>\n",
       "    </tr>\n",
       "    <tr>\n",
       "      <th>1</th>\n",
       "      <td>apartment</td>\n",
       "      <td>Mataderos</td>\n",
       "      <td>Argentina</td>\n",
       "      <td>Capital Federal</td>\n",
       "      <td>-34.652262</td>\n",
       "      <td>-58.522982</td>\n",
       "      <td>72000.0</td>\n",
       "      <td>USD</td>\n",
       "      <td>55.0</td>\n",
       "    </tr>\n",
       "    <tr>\n",
       "      <th>2</th>\n",
       "      <td>apartment</td>\n",
       "      <td>Belgrano</td>\n",
       "      <td>Argentina</td>\n",
       "      <td>Capital Federal</td>\n",
       "      <td>-34.559873</td>\n",
       "      <td>-58.443362</td>\n",
       "      <td>138000.0</td>\n",
       "      <td>USD</td>\n",
       "      <td>45.0</td>\n",
       "    </tr>\n",
       "    <tr>\n",
       "      <th>3</th>\n",
       "      <td>apartment</td>\n",
       "      <td>Belgrano</td>\n",
       "      <td>Argentina</td>\n",
       "      <td>Capital Federal</td>\n",
       "      <td>-34.559873</td>\n",
       "      <td>-58.443362</td>\n",
       "      <td>195000.0</td>\n",
       "      <td>USD</td>\n",
       "      <td>65.0</td>\n",
       "    </tr>\n",
       "    <tr>\n",
       "      <th>4</th>\n",
       "      <td>PH</td>\n",
       "      <td>Mataderos</td>\n",
       "      <td>Argentina</td>\n",
       "      <td>Capital Federal</td>\n",
       "      <td>-34.652356</td>\n",
       "      <td>-58.501624</td>\n",
       "      <td>239000.0</td>\n",
       "      <td>USD</td>\n",
       "      <td>140.0</td>\n",
       "    </tr>\n",
       "    <tr>\n",
       "      <th>...</th>\n",
       "      <td>...</td>\n",
       "      <td>...</td>\n",
       "      <td>...</td>\n",
       "      <td>...</td>\n",
       "      <td>...</td>\n",
       "      <td>...</td>\n",
       "      <td>...</td>\n",
       "      <td>...</td>\n",
       "      <td>...</td>\n",
       "    </tr>\n",
       "    <tr>\n",
       "      <th>17218</th>\n",
       "      <td>apartment</td>\n",
       "      <td>Barrio Norte</td>\n",
       "      <td>Argentina</td>\n",
       "      <td>Capital Federal</td>\n",
       "      <td>-34.599214</td>\n",
       "      <td>-58.402519</td>\n",
       "      <td>165000.0</td>\n",
       "      <td>USD</td>\n",
       "      <td>91.0</td>\n",
       "    </tr>\n",
       "    <tr>\n",
       "      <th>17219</th>\n",
       "      <td>apartment</td>\n",
       "      <td>Recoleta</td>\n",
       "      <td>Argentina</td>\n",
       "      <td>Capital Federal</td>\n",
       "      <td>-34.587425</td>\n",
       "      <td>-58.397372</td>\n",
       "      <td>165000.0</td>\n",
       "      <td>USD</td>\n",
       "      <td>44.0</td>\n",
       "    </tr>\n",
       "    <tr>\n",
       "      <th>17220</th>\n",
       "      <td>apartment</td>\n",
       "      <td>Belgrano</td>\n",
       "      <td>Argentina</td>\n",
       "      <td>Capital Federal</td>\n",
       "      <td>-34.563685</td>\n",
       "      <td>-58.442683</td>\n",
       "      <td>410000.0</td>\n",
       "      <td>USD</td>\n",
       "      <td>157.0</td>\n",
       "    </tr>\n",
       "    <tr>\n",
       "      <th>17221</th>\n",
       "      <td>apartment</td>\n",
       "      <td>Belgrano</td>\n",
       "      <td>Argentina</td>\n",
       "      <td>Capital Federal</td>\n",
       "      <td>-34.563685</td>\n",
       "      <td>-58.442683</td>\n",
       "      <td>410000.0</td>\n",
       "      <td>USD</td>\n",
       "      <td>157.0</td>\n",
       "    </tr>\n",
       "    <tr>\n",
       "      <th>17222</th>\n",
       "      <td>apartment</td>\n",
       "      <td>Villa Urquiza</td>\n",
       "      <td>Argentina</td>\n",
       "      <td>Capital Federal</td>\n",
       "      <td>-34.570639</td>\n",
       "      <td>-58.475596</td>\n",
       "      <td>131500.0</td>\n",
       "      <td>USD</td>\n",
       "      <td>46.0</td>\n",
       "    </tr>\n",
       "  </tbody>\n",
       "</table>\n",
       "<p>17223 rows × 9 columns</p>\n",
       "</div>"
      ],
      "text/plain": [
       "      property_type     place_name country_name       state_name        lat  \\\n",
       "0                PH      Mataderos    Argentina  Capital Federal -34.661824   \n",
       "1         apartment      Mataderos    Argentina  Capital Federal -34.652262   \n",
       "2         apartment       Belgrano    Argentina  Capital Federal -34.559873   \n",
       "3         apartment       Belgrano    Argentina  Capital Federal -34.559873   \n",
       "4                PH      Mataderos    Argentina  Capital Federal -34.652356   \n",
       "...             ...            ...          ...              ...        ...   \n",
       "17218     apartment   Barrio Norte    Argentina  Capital Federal -34.599214   \n",
       "17219     apartment       Recoleta    Argentina  Capital Federal -34.587425   \n",
       "17220     apartment       Belgrano    Argentina  Capital Federal -34.563685   \n",
       "17221     apartment       Belgrano    Argentina  Capital Federal -34.563685   \n",
       "17222     apartment  Villa Urquiza    Argentina  Capital Federal -34.570639   \n",
       "\n",
       "             lon     price currency  surface_total_in_m2  \n",
       "0     -58.508839   62000.0      USD                 55.0  \n",
       "1     -58.522982   72000.0      USD                 55.0  \n",
       "2     -58.443362  138000.0      USD                 45.0  \n",
       "3     -58.443362  195000.0      USD                 65.0  \n",
       "4     -58.501624  239000.0      USD                140.0  \n",
       "...          ...       ...      ...                  ...  \n",
       "17218 -58.402519  165000.0      USD                 91.0  \n",
       "17219 -58.397372  165000.0      USD                 44.0  \n",
       "17220 -58.442683  410000.0      USD                157.0  \n",
       "17221 -58.442683  410000.0      USD                157.0  \n",
       "17222 -58.475596  131500.0      USD                 46.0  \n",
       "\n",
       "[17223 rows x 9 columns]"
      ]
     },
     "execution_count": 3,
     "metadata": {},
     "output_type": "execute_result"
    }
   ],
   "source": [
    "df_properati"
   ]
  },
  {
   "cell_type": "markdown",
   "id": "c85a84cf-8ead-4830-abe2-48296dbcd5bd",
   "metadata": {
    "tags": []
   },
   "source": [
    "### Analise preliminar dos dados"
   ]
  },
  {
   "cell_type": "code",
   "execution_count": 5,
   "id": "e75b24e6-4f2a-4f36-87c8-2210f81dc54d",
   "metadata": {},
   "outputs": [
    {
     "name": "stdout",
     "output_type": "stream",
     "text": [
      "<class 'pandas.core.frame.DataFrame'>\n",
      "RangeIndex: 17223 entries, 0 to 17222\n",
      "Data columns (total 9 columns):\n",
      " #   Column               Non-Null Count  Dtype  \n",
      "---  ------               --------------  -----  \n",
      " 0   property_type        17223 non-null  object \n",
      " 1   place_name           17223 non-null  object \n",
      " 2   country_name         17223 non-null  object \n",
      " 3   state_name           17223 non-null  object \n",
      " 4   lat                  17223 non-null  float64\n",
      " 5   lon                  17223 non-null  float64\n",
      " 6   price                17223 non-null  float64\n",
      " 7   currency             17223 non-null  object \n",
      " 8   surface_total_in_m2  17223 non-null  float64\n",
      "dtypes: float64(4), object(5)\n",
      "memory usage: 1.2+ MB\n"
     ]
    }
   ],
   "source": [
    "df_properati.info()"
   ]
  },
  {
   "cell_type": "code",
   "execution_count": 6,
   "id": "7fc2459b-f78a-4a72-97aa-da1a9e2158ce",
   "metadata": {},
   "outputs": [
    {
     "data": {
      "text/plain": [
       "property_type          0\n",
       "place_name             0\n",
       "country_name           0\n",
       "state_name             0\n",
       "lat                    0\n",
       "lon                    0\n",
       "price                  0\n",
       "currency               0\n",
       "surface_total_in_m2    0\n",
       "dtype: int64"
      ]
     },
     "execution_count": 6,
     "metadata": {},
     "output_type": "execute_result"
    }
   ],
   "source": [
    "df_properati.isnull().sum()"
   ]
  },
  {
   "cell_type": "code",
   "execution_count": 7,
   "id": "7b41f439-7f78-4556-bef4-ec37905ea615",
   "metadata": {},
   "outputs": [
    {
     "name": "stdout",
     "output_type": "stream",
     "text": [
      "['USD' 'ARS']\n",
      "['Argentina']\n",
      "['Capital Federal']\n",
      "['PH' 'apartment' 'house' 'store']\n",
      "['Mataderos' 'Belgrano' 'Palermo' 'Flores' 'Boedo' 'Las Cañitas'\n",
      " 'Puerto Madero' 'Balvanera' 'Caballito' 'Nuñez' 'Floresta' 'Barracas'\n",
      " 'Recoleta' 'Congreso' 'Villa Crespo' 'Chacarita' 'Almagro' 'Constitución'\n",
      " 'Colegiales' 'Villa Urquiza' 'Barrio Norte' 'Palermo Hollywood'\n",
      " 'Saavedra' 'Paternal' 'Agronomía' 'Villa Pueyrredón' 'Coghlan'\n",
      " 'Parque Centenario' 'San Telmo' 'Monserrat' 'Boca' 'Parque Avellaneda'\n",
      " 'San Cristobal' 'Abasto' 'Versalles' 'Villa del Parque' 'Monte Castro'\n",
      " 'Retiro' 'Capital Federal' 'Parque Chas' 'Palermo Chico' 'Villa Devoto'\n",
      " 'Palermo Soho' 'Centro / Microcentro' 'Liniers' 'Tribunales' 'Once'\n",
      " 'San Nicolás' 'Parque Chacabuco' 'Velez Sarsfield' 'Catalinas' 'Pompeya'\n",
      " 'Parque Patricios' 'Palermo Viejo' 'Villa Lugano' 'Villa Luro'\n",
      " 'Villa General Mitre' 'Villa Ortuzar' 'Villa Santa Rita' 'Villa Soldati'\n",
      " 'Villa Real' 'Villa Riachuelo']\n"
     ]
    }
   ],
   "source": [
    "print(df_properati.currency.unique())\n",
    "print(df_properati.country_name.unique())\n",
    "print(df_properati.state_name.unique())\n",
    "print(df_properati.property_type.unique())\n",
    "print(df_properati.place_name.unique())"
   ]
  },
  {
   "cell_type": "code",
   "execution_count": 8,
   "id": "557c1dca-a1b5-465d-aedb-e588ac286faf",
   "metadata": {},
   "outputs": [],
   "source": [
    "###\n",
    "#  Apos verificarmos quais colunas possuem o mesmo valor nas linhas, \n",
    "#       as eliminamos criando uma copia do DF original.\n",
    "###"
   ]
  },
  {
   "cell_type": "code",
   "execution_count": 9,
   "id": "34430647-7cf1-4395-8efa-272b2466fabb",
   "metadata": {},
   "outputs": [
    {
     "data": {
      "text/html": [
       "<div>\n",
       "<style scoped>\n",
       "    .dataframe tbody tr th:only-of-type {\n",
       "        vertical-align: middle;\n",
       "    }\n",
       "\n",
       "    .dataframe tbody tr th {\n",
       "        vertical-align: top;\n",
       "    }\n",
       "\n",
       "    .dataframe thead th {\n",
       "        text-align: right;\n",
       "    }\n",
       "</style>\n",
       "<table border=\"1\" class=\"dataframe\">\n",
       "  <thead>\n",
       "    <tr style=\"text-align: right;\">\n",
       "      <th></th>\n",
       "      <th>property_type</th>\n",
       "      <th>place_name</th>\n",
       "      <th>lat</th>\n",
       "      <th>lon</th>\n",
       "      <th>price</th>\n",
       "      <th>currency</th>\n",
       "      <th>surface_total_in_m2</th>\n",
       "    </tr>\n",
       "  </thead>\n",
       "  <tbody>\n",
       "    <tr>\n",
       "      <th>0</th>\n",
       "      <td>PH</td>\n",
       "      <td>Mataderos</td>\n",
       "      <td>-34.661824</td>\n",
       "      <td>-58.508839</td>\n",
       "      <td>62000.0</td>\n",
       "      <td>USD</td>\n",
       "      <td>55.0</td>\n",
       "    </tr>\n",
       "    <tr>\n",
       "      <th>1</th>\n",
       "      <td>apartment</td>\n",
       "      <td>Mataderos</td>\n",
       "      <td>-34.652262</td>\n",
       "      <td>-58.522982</td>\n",
       "      <td>72000.0</td>\n",
       "      <td>USD</td>\n",
       "      <td>55.0</td>\n",
       "    </tr>\n",
       "    <tr>\n",
       "      <th>2</th>\n",
       "      <td>apartment</td>\n",
       "      <td>Belgrano</td>\n",
       "      <td>-34.559873</td>\n",
       "      <td>-58.443362</td>\n",
       "      <td>138000.0</td>\n",
       "      <td>USD</td>\n",
       "      <td>45.0</td>\n",
       "    </tr>\n",
       "    <tr>\n",
       "      <th>3</th>\n",
       "      <td>apartment</td>\n",
       "      <td>Belgrano</td>\n",
       "      <td>-34.559873</td>\n",
       "      <td>-58.443362</td>\n",
       "      <td>195000.0</td>\n",
       "      <td>USD</td>\n",
       "      <td>65.0</td>\n",
       "    </tr>\n",
       "    <tr>\n",
       "      <th>4</th>\n",
       "      <td>PH</td>\n",
       "      <td>Mataderos</td>\n",
       "      <td>-34.652356</td>\n",
       "      <td>-58.501624</td>\n",
       "      <td>239000.0</td>\n",
       "      <td>USD</td>\n",
       "      <td>140.0</td>\n",
       "    </tr>\n",
       "    <tr>\n",
       "      <th>...</th>\n",
       "      <td>...</td>\n",
       "      <td>...</td>\n",
       "      <td>...</td>\n",
       "      <td>...</td>\n",
       "      <td>...</td>\n",
       "      <td>...</td>\n",
       "      <td>...</td>\n",
       "    </tr>\n",
       "    <tr>\n",
       "      <th>17218</th>\n",
       "      <td>apartment</td>\n",
       "      <td>Barrio Norte</td>\n",
       "      <td>-34.599214</td>\n",
       "      <td>-58.402519</td>\n",
       "      <td>165000.0</td>\n",
       "      <td>USD</td>\n",
       "      <td>91.0</td>\n",
       "    </tr>\n",
       "    <tr>\n",
       "      <th>17219</th>\n",
       "      <td>apartment</td>\n",
       "      <td>Recoleta</td>\n",
       "      <td>-34.587425</td>\n",
       "      <td>-58.397372</td>\n",
       "      <td>165000.0</td>\n",
       "      <td>USD</td>\n",
       "      <td>44.0</td>\n",
       "    </tr>\n",
       "    <tr>\n",
       "      <th>17220</th>\n",
       "      <td>apartment</td>\n",
       "      <td>Belgrano</td>\n",
       "      <td>-34.563685</td>\n",
       "      <td>-58.442683</td>\n",
       "      <td>410000.0</td>\n",
       "      <td>USD</td>\n",
       "      <td>157.0</td>\n",
       "    </tr>\n",
       "    <tr>\n",
       "      <th>17221</th>\n",
       "      <td>apartment</td>\n",
       "      <td>Belgrano</td>\n",
       "      <td>-34.563685</td>\n",
       "      <td>-58.442683</td>\n",
       "      <td>410000.0</td>\n",
       "      <td>USD</td>\n",
       "      <td>157.0</td>\n",
       "    </tr>\n",
       "    <tr>\n",
       "      <th>17222</th>\n",
       "      <td>apartment</td>\n",
       "      <td>Villa Urquiza</td>\n",
       "      <td>-34.570639</td>\n",
       "      <td>-58.475596</td>\n",
       "      <td>131500.0</td>\n",
       "      <td>USD</td>\n",
       "      <td>46.0</td>\n",
       "    </tr>\n",
       "  </tbody>\n",
       "</table>\n",
       "<p>17223 rows × 7 columns</p>\n",
       "</div>"
      ],
      "text/plain": [
       "      property_type     place_name        lat        lon     price currency  \\\n",
       "0                PH      Mataderos -34.661824 -58.508839   62000.0      USD   \n",
       "1         apartment      Mataderos -34.652262 -58.522982   72000.0      USD   \n",
       "2         apartment       Belgrano -34.559873 -58.443362  138000.0      USD   \n",
       "3         apartment       Belgrano -34.559873 -58.443362  195000.0      USD   \n",
       "4                PH      Mataderos -34.652356 -58.501624  239000.0      USD   \n",
       "...             ...            ...        ...        ...       ...      ...   \n",
       "17218     apartment   Barrio Norte -34.599214 -58.402519  165000.0      USD   \n",
       "17219     apartment       Recoleta -34.587425 -58.397372  165000.0      USD   \n",
       "17220     apartment       Belgrano -34.563685 -58.442683  410000.0      USD   \n",
       "17221     apartment       Belgrano -34.563685 -58.442683  410000.0      USD   \n",
       "17222     apartment  Villa Urquiza -34.570639 -58.475596  131500.0      USD   \n",
       "\n",
       "       surface_total_in_m2  \n",
       "0                     55.0  \n",
       "1                     55.0  \n",
       "2                     45.0  \n",
       "3                     65.0  \n",
       "4                    140.0  \n",
       "...                    ...  \n",
       "17218                 91.0  \n",
       "17219                 44.0  \n",
       "17220                157.0  \n",
       "17221                157.0  \n",
       "17222                 46.0  \n",
       "\n",
       "[17223 rows x 7 columns]"
      ]
     },
     "execution_count": 9,
     "metadata": {},
     "output_type": "execute_result"
    }
   ],
   "source": [
    "df_properati_std = df_properati[['property_type',\n",
    "                                'place_name',\n",
    "                                'lat',\n",
    "                                'lon',\n",
    "                                'price',\n",
    "                                'currency',\n",
    "                                'surface_total_in_m2']].copy()\n",
    "df_properati_std"
   ]
  },
  {
   "cell_type": "code",
   "execution_count": null,
   "id": "724a6493-2b70-4038-a480-41638351e043",
   "metadata": {
    "tags": []
   },
   "outputs": [],
   "source": [
    "###\n",
    "#             Para padronizar as contas e eliminar a coluna 'currency' vamos \n",
    "#                       passar todos os preços para 'USD'.\n",
    "###"
   ]
  },
  {
   "cell_type": "code",
   "execution_count": 11,
   "id": "a49e368e-c5ac-41da-9712-5f1513d892eb",
   "metadata": {},
   "outputs": [],
   "source": [
    "dolar={'USD':1, 'ARS': 0.0085}\n",
    "df_properati_std['preco_dolar'] = df_properati_std.currency.map(dolar)*df_properati_std.price\n",
    "\n",
    "df_properati_std['price'] = df_properati_std['preco_dolar']\n",
    "\n",
    "df_properati_std.drop(columns=['currency', 'preco_dolar'], inplace = True)"
   ]
  },
  {
   "cell_type": "code",
   "execution_count": 12,
   "id": "50bcf671-d39b-4530-b241-b745ec9ded63",
   "metadata": {},
   "outputs": [],
   "source": [
    "###\n",
    "#             Criando colunas novas para analise.\n",
    "###"
   ]
  },
  {
   "cell_type": "code",
   "execution_count": 13,
   "id": "d61d6cc9-62c8-4e67-aab9-ca9ee4e25ac2",
   "metadata": {},
   "outputs": [],
   "source": [
    "# Coluna do preço por metro quadrado.\n",
    "\n",
    "df_properati_std['price_m2'] = df_properati_std['price'] / df_properati_std['surface_total_in_m2']"
   ]
  },
  {
   "cell_type": "markdown",
   "id": "e212d026-1d24-44f7-a220-36e9e3695b56",
   "metadata": {
    "tags": []
   },
   "source": [
    "### FATIAMENTO DE DADOS"
   ]
  },
  {
   "cell_type": "code",
   "execution_count": null,
   "id": "176f3bca-68d8-458b-a665-968fe223f981",
   "metadata": {},
   "outputs": [],
   "source": [
    "###\n",
    "#VAMOS CRIAR NOVOS CONJUNTOS DE DADOS EM NOVAS COLUNAS AGRUPANDO PARAMETROS COMUNS\n",
    "###"
   ]
  },
  {
   "cell_type": "code",
   "execution_count": 15,
   "id": "b0d066c5-f63c-42ed-b99e-eb8be47a9910",
   "metadata": {},
   "outputs": [
    {
     "data": {
      "text/plain": [
       "<AxesSubplot:xlabel='surface_total_in_m2', ylabel='price_m2'>"
      ]
     },
     "execution_count": 15,
     "metadata": {},
     "output_type": "execute_result"
    },
    {
     "data": {
      "image/png": "[encoded data removed]",
      "text/plain": [
       "<Figure size 1080x360 with 2 Axes>"
      ]
     },
     "metadata": {
      "needs_background": "light"
     },
     "output_type": "display_data"
    }
   ],
   "source": [
    "fig, axes = plt.subplots(1, 2, sharex=False, figsize=(15,5))\n",
    "\n",
    "sns.scatterplot(ax=axes[0], data = df_properati_std['surface_total_in_m2'])\n",
    "\n",
    "sns.scatterplot(ax=axes[1], data = df_properati_std,\n",
    "                x = 'surface_total_in_m2',\n",
    "                y = 'price_m2')"
   ]
  },
  {
   "cell_type": "code",
   "execution_count": 16,
   "id": "0f06a379-b6d0-41db-a228-e5ea00ecba9f",
   "metadata": {},
   "outputs": [
    {
     "name": "stdout",
     "output_type": "stream",
     "text": [
      "<class 'pandas.core.frame.DataFrame'>\n",
      "Int64Index: 17215 entries, 0 to 17222\n",
      "Data columns (total 7 columns):\n",
      " #   Column               Non-Null Count  Dtype  \n",
      "---  ------               --------------  -----  \n",
      " 0   property_type        17215 non-null  object \n",
      " 1   place_name           17215 non-null  object \n",
      " 2   lat                  17215 non-null  float64\n",
      " 3   lon                  17215 non-null  float64\n",
      " 4   price                17215 non-null  float64\n",
      " 5   surface_total_in_m2  17215 non-null  float64\n",
      " 6   price_m2             17215 non-null  float64\n",
      "dtypes: float64(5), object(2)\n",
      "memory usage: 1.1+ MB\n"
     ]
    }
   ],
   "source": [
    "lista_drop = []\n",
    "\n",
    "lista_drop.append(list(df_properati_std[df_properati_std['price_m2'] > 100000].index)) \n",
    "\n",
    "lista_drop.append(list(df_properati_std[df_properati_std['surface_total_in_m2'] > 25000].index)) \n",
    "\n",
    "lista_drop.append(list(df_properati_std[df_properati_std['price'] > 20000000].index)) \n",
    "\n",
    "lista_drop = set(sum(lista_drop, []))\n",
    "lista_drop = list(lista_drop) \n",
    "\n",
    "df_properati_std.drop(lista_drop, inplace=True)\n",
    "df_properati_std.info()"
   ]
  },
  {
   "cell_type": "code",
   "execution_count": 17,
   "id": "92c87d4c-05e0-4b18-8551-9efd0b040107",
   "metadata": {},
   "outputs": [
    {
     "data": {
      "text/html": [
       "<div>\n",
       "<style scoped>\n",
       "    .dataframe tbody tr th:only-of-type {\n",
       "        vertical-align: middle;\n",
       "    }\n",
       "\n",
       "    .dataframe tbody tr th {\n",
       "        vertical-align: top;\n",
       "    }\n",
       "\n",
       "    .dataframe thead th {\n",
       "        text-align: right;\n",
       "    }\n",
       "</style>\n",
       "<table border=\"1\" class=\"dataframe\">\n",
       "  <thead>\n",
       "    <tr style=\"text-align: right;\">\n",
       "      <th></th>\n",
       "      <th>property_type</th>\n",
       "      <th>place_name</th>\n",
       "      <th>lat</th>\n",
       "      <th>lon</th>\n",
       "      <th>price</th>\n",
       "      <th>surface_total_in_m2</th>\n",
       "      <th>price_m2</th>\n",
       "      <th>luxury_m2_type</th>\n",
       "      <th>surface_m2_type</th>\n",
       "    </tr>\n",
       "  </thead>\n",
       "  <tbody>\n",
       "    <tr>\n",
       "      <th>0</th>\n",
       "      <td>PH</td>\n",
       "      <td>Mataderos</td>\n",
       "      <td>-34.661824</td>\n",
       "      <td>-58.508839</td>\n",
       "      <td>62000.0</td>\n",
       "      <td>55.0</td>\n",
       "      <td>1127.272727</td>\n",
       "      <td>super_popular</td>\n",
       "      <td>P</td>\n",
       "    </tr>\n",
       "    <tr>\n",
       "      <th>1</th>\n",
       "      <td>apartment</td>\n",
       "      <td>Mataderos</td>\n",
       "      <td>-34.652262</td>\n",
       "      <td>-58.522982</td>\n",
       "      <td>72000.0</td>\n",
       "      <td>55.0</td>\n",
       "      <td>1309.090909</td>\n",
       "      <td>super_popular</td>\n",
       "      <td>P</td>\n",
       "    </tr>\n",
       "    <tr>\n",
       "      <th>2</th>\n",
       "      <td>apartment</td>\n",
       "      <td>Belgrano</td>\n",
       "      <td>-34.559873</td>\n",
       "      <td>-58.443362</td>\n",
       "      <td>138000.0</td>\n",
       "      <td>45.0</td>\n",
       "      <td>3066.666667</td>\n",
       "      <td>popular</td>\n",
       "      <td>P</td>\n",
       "    </tr>\n",
       "    <tr>\n",
       "      <th>3</th>\n",
       "      <td>apartment</td>\n",
       "      <td>Belgrano</td>\n",
       "      <td>-34.559873</td>\n",
       "      <td>-58.443362</td>\n",
       "      <td>195000.0</td>\n",
       "      <td>65.0</td>\n",
       "      <td>3000.000000</td>\n",
       "      <td>popular</td>\n",
       "      <td>P</td>\n",
       "    </tr>\n",
       "    <tr>\n",
       "      <th>4</th>\n",
       "      <td>PH</td>\n",
       "      <td>Mataderos</td>\n",
       "      <td>-34.652356</td>\n",
       "      <td>-58.501624</td>\n",
       "      <td>239000.0</td>\n",
       "      <td>140.0</td>\n",
       "      <td>1707.142857</td>\n",
       "      <td>super_popular</td>\n",
       "      <td>M</td>\n",
       "    </tr>\n",
       "    <tr>\n",
       "      <th>...</th>\n",
       "      <td>...</td>\n",
       "      <td>...</td>\n",
       "      <td>...</td>\n",
       "      <td>...</td>\n",
       "      <td>...</td>\n",
       "      <td>...</td>\n",
       "      <td>...</td>\n",
       "      <td>...</td>\n",
       "      <td>...</td>\n",
       "    </tr>\n",
       "    <tr>\n",
       "      <th>17218</th>\n",
       "      <td>apartment</td>\n",
       "      <td>Barrio Norte</td>\n",
       "      <td>-34.599214</td>\n",
       "      <td>-58.402519</td>\n",
       "      <td>165000.0</td>\n",
       "      <td>91.0</td>\n",
       "      <td>1813.186813</td>\n",
       "      <td>super_popular</td>\n",
       "      <td>M</td>\n",
       "    </tr>\n",
       "    <tr>\n",
       "      <th>17219</th>\n",
       "      <td>apartment</td>\n",
       "      <td>Recoleta</td>\n",
       "      <td>-34.587425</td>\n",
       "      <td>-58.397372</td>\n",
       "      <td>165000.0</td>\n",
       "      <td>44.0</td>\n",
       "      <td>3750.000000</td>\n",
       "      <td>popular</td>\n",
       "      <td>P</td>\n",
       "    </tr>\n",
       "    <tr>\n",
       "      <th>17220</th>\n",
       "      <td>apartment</td>\n",
       "      <td>Belgrano</td>\n",
       "      <td>-34.563685</td>\n",
       "      <td>-58.442683</td>\n",
       "      <td>410000.0</td>\n",
       "      <td>157.0</td>\n",
       "      <td>2611.464968</td>\n",
       "      <td>popular</td>\n",
       "      <td>M</td>\n",
       "    </tr>\n",
       "    <tr>\n",
       "      <th>17221</th>\n",
       "      <td>apartment</td>\n",
       "      <td>Belgrano</td>\n",
       "      <td>-34.563685</td>\n",
       "      <td>-58.442683</td>\n",
       "      <td>410000.0</td>\n",
       "      <td>157.0</td>\n",
       "      <td>2611.464968</td>\n",
       "      <td>popular</td>\n",
       "      <td>M</td>\n",
       "    </tr>\n",
       "    <tr>\n",
       "      <th>17222</th>\n",
       "      <td>apartment</td>\n",
       "      <td>Villa Urquiza</td>\n",
       "      <td>-34.570639</td>\n",
       "      <td>-58.475596</td>\n",
       "      <td>131500.0</td>\n",
       "      <td>46.0</td>\n",
       "      <td>2858.695652</td>\n",
       "      <td>popular</td>\n",
       "      <td>P</td>\n",
       "    </tr>\n",
       "  </tbody>\n",
       "</table>\n",
       "<p>17215 rows × 9 columns</p>\n",
       "</div>"
      ],
      "text/plain": [
       "      property_type     place_name        lat        lon     price  \\\n",
       "0                PH      Mataderos -34.661824 -58.508839   62000.0   \n",
       "1         apartment      Mataderos -34.652262 -58.522982   72000.0   \n",
       "2         apartment       Belgrano -34.559873 -58.443362  138000.0   \n",
       "3         apartment       Belgrano -34.559873 -58.443362  195000.0   \n",
       "4                PH      Mataderos -34.652356 -58.501624  239000.0   \n",
       "...             ...            ...        ...        ...       ...   \n",
       "17218     apartment   Barrio Norte -34.599214 -58.402519  165000.0   \n",
       "17219     apartment       Recoleta -34.587425 -58.397372  165000.0   \n",
       "17220     apartment       Belgrano -34.563685 -58.442683  410000.0   \n",
       "17221     apartment       Belgrano -34.563685 -58.442683  410000.0   \n",
       "17222     apartment  Villa Urquiza -34.570639 -58.475596  131500.0   \n",
       "\n",
       "       surface_total_in_m2     price_m2 luxury_m2_type surface_m2_type  \n",
       "0                     55.0  1127.272727  super_popular               P  \n",
       "1                     55.0  1309.090909  super_popular               P  \n",
       "2                     45.0  3066.666667        popular               P  \n",
       "3                     65.0  3000.000000        popular               P  \n",
       "4                    140.0  1707.142857  super_popular               M  \n",
       "...                    ...          ...            ...             ...  \n",
       "17218                 91.0  1813.186813  super_popular               M  \n",
       "17219                 44.0  3750.000000        popular               P  \n",
       "17220                157.0  2611.464968        popular               M  \n",
       "17221                157.0  2611.464968        popular               M  \n",
       "17222                 46.0  2858.695652        popular               P  \n",
       "\n",
       "[17215 rows x 9 columns]"
      ]
     },
     "execution_count": 17,
     "metadata": {},
     "output_type": "execute_result"
    }
   ],
   "source": [
    "#Então definimos as faixas de luxo do m2 dos imóveis com a lista abaixo.\n",
    "\n",
    "bins_lux = [0, 2500, 5000, 7500, 10000, 15000, 30000, 50000] \n",
    "\n",
    "luxury_m2_type = pd.cut(df_properati_std.price_m2, bins= bins_lux, right = False)\n",
    "group_labels = ['super_popular', 'popular', 'normal', 'good', 'great', 'luxury', 'extreme_luxury']\n",
    "luxury_m2_type_categorizado = pd.cut(df_properati_std.price_m2, bins = bins_lux, labels = group_labels)\n",
    "\n",
    "df_properati_std['luxury_m2_type'] = luxury_m2_type_categorizado\n",
    "\n",
    "\n",
    "#Então definimos as faixas de tamanho do m2 dos imóveis com a lista abaixo.\n",
    "\n",
    "bins_m2 = [0, 20, 80, 200, 400, 600, 1000, 2000, 20000] \n",
    "\n",
    "surface_m2_type = pd.cut(df_properati_std.surface_total_in_m2, bins= bins_m2, right = False)\n",
    "\n",
    "group_labels = ['XP', 'P','M', 'G', 'GG', 'XG', 'XXG', 'XXXG']\n",
    "surface_m2_type_categorizado = pd.cut(df_properati_std.surface_total_in_m2, bins = bins_m2, labels = group_labels)\n",
    "\n",
    "df_properati_std['surface_m2_type'] = surface_m2_type_categorizado\n",
    "\n",
    "df_properati_std"
   ]
  },
  {
   "cell_type": "markdown",
   "id": "058ed271-1f39-4fc6-a056-6d9ef53e0c99",
   "metadata": {
    "tags": []
   },
   "source": [
    "### Segunda análise"
   ]
  },
  {
   "cell_type": "code",
   "execution_count": 18,
   "id": "973d3ac6-c335-451c-b0e4-782d9239b381",
   "metadata": {},
   "outputs": [
    {
     "data": {
      "text/plain": [
       "<AxesSubplot:xlabel='place_name', ylabel='price_m2'>"
      ]
     },
     "execution_count": 18,
     "metadata": {},
     "output_type": "execute_result"
    },
    {
     "data": {
      "image/png": "[encoded data removed]",
      "text/plain": [
       "<Figure size 1080x360 with 1 Axes>"
      ]
     },
     "metadata": {
      "needs_background": "light"
     },
     "output_type": "display_data"
    }
   ],
   "source": [
    "group_place_m2 = df_properati_std.groupby(['place_name']).price_m2.mean().sort_values()\n",
    "ax = sns.scatterplot(data = group_place_m2) \n",
    "ax.figure.set_size_inches(15, 5)\n",
    "plt.xticks(rotation=75)\n",
    "ax"
   ]
  },
  {
   "cell_type": "code",
   "execution_count": 19,
   "id": "24fd59a6-fc71-4381-9689-94c08028296c",
   "metadata": {},
   "outputs": [
    {
     "data": {
      "text/plain": [
       "<AxesSubplot:xlabel='property_type', ylabel='price_m2'>"
      ]
     },
     "execution_count": 19,
     "metadata": {},
     "output_type": "execute_result"
    },
    {
     "data": {
      "image/png": "[encoded data removed]",
      "text/plain": [
       "<Figure size 432x288 with 1 Axes>"
      ]
     },
     "metadata": {
      "needs_background": "light"
     },
     "output_type": "display_data"
    }
   ],
   "source": [
    "group_property_type_m2 = df_properati_std.groupby(['property_type']).price_m2.mean().sort_values()\n",
    "ax = sns.scatterplot(data = group_property_type_m2) \n",
    "plt.xticks(rotation=0)\n",
    "ax"
   ]
  },
  {
   "cell_type": "code",
   "execution_count": 20,
   "id": "246e1d39-315c-49b3-bfc3-e96bcecd5873",
   "metadata": {},
   "outputs": [
    {
     "data": {
      "text/plain": [
       "<AxesSubplot:xlabel='surface_m2_type', ylabel='price_m2'>"
      ]
     },
     "execution_count": 20,
     "metadata": {},
     "output_type": "execute_result"
    },
    {
     "data": {
      "image/png": "[encoded data removed]",
      "text/plain": [
       "<Figure size 1080x360 with 2 Axes>"
      ]
     },
     "metadata": {
      "needs_background": "light"
     },
     "output_type": "display_data"
    }
   ],
   "source": [
    "fig, axes = plt.subplots(1, 2, sharex=False, figsize=(15,5))\n",
    "\n",
    "sns.histplot(ax=axes[0], data = df_properati_std.surface_m2_type)\n",
    "\n",
    "sns.histplot(ax=axes[1], data = df_properati_std,  \n",
    "             x = 'surface_m2_type',\n",
    "             y = 'price_m2')"
   ]
  },
  {
   "cell_type": "code",
   "execution_count": 21,
   "id": "bd07c7b8-5a4c-43c0-b4bf-5b08a787651c",
   "metadata": {
    "collapsed": true,
    "jupyter": {
     "outputs_hidden": true
    },
    "tags": []
   },
   "outputs": [
    {
     "data": {
      "text/plain": [
       "<AxesSubplot:title={'center':'Propiedade'}, xlabel='Tipo de Propriedade', ylabel='Preço do m2'>"
      ]
     },
     "execution_count": 21,
     "metadata": {},
     "output_type": "execute_result"
    },
    {
     "data": {
      "image/png": "[encoded data removed]",
      "text/plain": [
       "<Figure size 1440x720 with 1 Axes>"
      ]
     },
     "metadata": {
      "needs_background": "light"
     },
     "output_type": "display_data"
    }
   ],
   "source": [
    "ax = sns.boxplot(x='property_type', y='price_m2', data=df_properati_std, hue='surface_m2_type')\n",
    "ax.figure.set_size_inches(20, 10)\n",
    "ax.set_title('Propiedade', fontsize=18)\n",
    "ax.set_xlabel('Tipo de Propriedade', fontsize=14)\n",
    "ax.set_ylabel('Preço do m2', fontsize=14)\n",
    "plt.xticks(rotation=0)\n",
    "ax"
   ]
  },
  {
   "cell_type": "code",
   "execution_count": 22,
   "id": "36b8057c-e5e0-48ed-95b0-7a8e843855af",
   "metadata": {
    "collapsed": true,
    "jupyter": {
     "outputs_hidden": true
    },
    "tags": []
   },
   "outputs": [
    {
     "data": {
      "text/html": [
       "<div>\n",
       "<style scoped>\n",
       "    .dataframe tbody tr th:only-of-type {\n",
       "        vertical-align: middle;\n",
       "    }\n",
       "\n",
       "    .dataframe tbody tr th {\n",
       "        vertical-align: top;\n",
       "    }\n",
       "\n",
       "    .dataframe thead th {\n",
       "        text-align: right;\n",
       "    }\n",
       "</style>\n",
       "<table border=\"1\" class=\"dataframe\">\n",
       "  <thead>\n",
       "    <tr style=\"text-align: right;\">\n",
       "      <th>luxury_m2_type</th>\n",
       "      <th>super_popular</th>\n",
       "      <th>popular</th>\n",
       "      <th>normal</th>\n",
       "      <th>good</th>\n",
       "      <th>great</th>\n",
       "      <th>luxury</th>\n",
       "      <th>extreme_luxury</th>\n",
       "    </tr>\n",
       "    <tr>\n",
       "      <th>surface_m2_type</th>\n",
       "      <th></th>\n",
       "      <th></th>\n",
       "      <th></th>\n",
       "      <th></th>\n",
       "      <th></th>\n",
       "      <th></th>\n",
       "      <th></th>\n",
       "    </tr>\n",
       "  </thead>\n",
       "  <tbody>\n",
       "    <tr>\n",
       "      <th>XP</th>\n",
       "      <td>30</td>\n",
       "      <td>52</td>\n",
       "      <td>3</td>\n",
       "      <td>2</td>\n",
       "      <td>1</td>\n",
       "      <td>2</td>\n",
       "      <td>3</td>\n",
       "    </tr>\n",
       "    <tr>\n",
       "      <th>P</th>\n",
       "      <td>5953</td>\n",
       "      <td>4133</td>\n",
       "      <td>147</td>\n",
       "      <td>18</td>\n",
       "      <td>21</td>\n",
       "      <td>116</td>\n",
       "      <td>7</td>\n",
       "    </tr>\n",
       "    <tr>\n",
       "      <th>M</th>\n",
       "      <td>2730</td>\n",
       "      <td>1867</td>\n",
       "      <td>293</td>\n",
       "      <td>30</td>\n",
       "      <td>1</td>\n",
       "      <td>1</td>\n",
       "      <td>0</td>\n",
       "    </tr>\n",
       "    <tr>\n",
       "      <th>G</th>\n",
       "      <td>859</td>\n",
       "      <td>382</td>\n",
       "      <td>119</td>\n",
       "      <td>29</td>\n",
       "      <td>8</td>\n",
       "      <td>2</td>\n",
       "      <td>0</td>\n",
       "    </tr>\n",
       "    <tr>\n",
       "      <th>GG</th>\n",
       "      <td>199</td>\n",
       "      <td>34</td>\n",
       "      <td>23</td>\n",
       "      <td>3</td>\n",
       "      <td>6</td>\n",
       "      <td>2</td>\n",
       "      <td>0</td>\n",
       "    </tr>\n",
       "    <tr>\n",
       "      <th>XG</th>\n",
       "      <td>61</td>\n",
       "      <td>18</td>\n",
       "      <td>3</td>\n",
       "      <td>1</td>\n",
       "      <td>0</td>\n",
       "      <td>0</td>\n",
       "      <td>0</td>\n",
       "    </tr>\n",
       "    <tr>\n",
       "      <th>XXG</th>\n",
       "      <td>38</td>\n",
       "      <td>3</td>\n",
       "      <td>0</td>\n",
       "      <td>0</td>\n",
       "      <td>0</td>\n",
       "      <td>0</td>\n",
       "      <td>0</td>\n",
       "    </tr>\n",
       "    <tr>\n",
       "      <th>XXXG</th>\n",
       "      <td>15</td>\n",
       "      <td>0</td>\n",
       "      <td>0</td>\n",
       "      <td>0</td>\n",
       "      <td>0</td>\n",
       "      <td>0</td>\n",
       "      <td>0</td>\n",
       "    </tr>\n",
       "  </tbody>\n",
       "</table>\n",
       "</div>"
      ],
      "text/plain": [
       "luxury_m2_type   super_popular  popular  normal  good  great  luxury  \\\n",
       "surface_m2_type                                                        \n",
       "XP                          30       52       3     2      1       2   \n",
       "P                         5953     4133     147    18     21     116   \n",
       "M                         2730     1867     293    30      1       1   \n",
       "G                          859      382     119    29      8       2   \n",
       "GG                         199       34      23     3      6       2   \n",
       "XG                          61       18       3     1      0       0   \n",
       "XXG                         38        3       0     0      0       0   \n",
       "XXXG                        15        0       0     0      0       0   \n",
       "\n",
       "luxury_m2_type   extreme_luxury  \n",
       "surface_m2_type                  \n",
       "XP                            3  \n",
       "P                             7  \n",
       "M                             0  \n",
       "G                             0  \n",
       "GG                            0  \n",
       "XG                            0  \n",
       "XXG                           0  \n",
       "XXXG                          0  "
      ]
     },
     "execution_count": 22,
     "metadata": {},
     "output_type": "execute_result"
    }
   ],
   "source": [
    "pd.crosstab(df_properati_std.surface_m2_type, df_properati_std.luxury_m2_type)"
   ]
  },
  {
   "cell_type": "code",
   "execution_count": 23,
   "id": "621703ec",
   "metadata": {
    "collapsed": true,
    "jupyter": {
     "outputs_hidden": true
    },
    "tags": []
   },
   "outputs": [
    {
     "data": {
      "text/plain": [
       "<AxesSubplot:>"
      ]
     },
     "execution_count": 23,
     "metadata": {},
     "output_type": "execute_result"
    },
    {
     "data": {
      "image/png": "[encoded data removed]",
      "text/plain": [
       "<Figure size 1080x720 with 2 Axes>"
      ]
     },
     "metadata": {
      "needs_background": "light"
     },
     "output_type": "display_data"
    }
   ],
   "source": [
    "#heatmap\n",
    "plt.figure(figsize=(15,10))\n",
    "sns.heatmap(df_properati_std.corr(), annot = True, cmap ='Blues')"
   ]
  },
  {
   "cell_type": "markdown",
   "id": "9082a292",
   "metadata": {
    "jp-MarkdownHeadingCollapsed": true,
    "tags": []
   },
   "source": [
    "### Tratamento dos outliers"
   ]
  },
  {
   "cell_type": "code",
   "execution_count": 24,
   "id": "4b8b49c5",
   "metadata": {},
   "outputs": [],
   "source": [
    "#função para definir os limites dos outliers\n",
    "def limites(coluna):\n",
    "    q1 = coluna.quantile(0.25)\n",
    "    q3 = coluna.quantile(0.75)\n",
    "    amplitude = q3 - q1\n",
    "    return q1 - 1.5 * amplitude, q3 + 1.5 * amplitude"
   ]
  },
  {
   "cell_type": "code",
   "execution_count": 25,
   "id": "62d525af",
   "metadata": {},
   "outputs": [
    {
     "name": "stdout",
     "output_type": "stream",
     "text": [
      "(241.66666666666674, 4575.0)\n"
     ]
    }
   ],
   "source": [
    "#limite inferior e superior do preço por metro quadrado\n",
    "print(limites(df_properati_std.price_m2))"
   ]
  },
  {
   "cell_type": "code",
   "execution_count": 26,
   "id": "a6af6c28",
   "metadata": {},
   "outputs": [],
   "source": [
    "#criando uma função para plotar o mesmo gráfico, mas mudando o eixo\n",
    "def diagrama_caixa(coluna):\n",
    "    fig, (ax1, ax2) = plt.subplots(1, 2)\n",
    "    fig.set_size_inches(15,5)\n",
    "    sns.boxplot(x=coluna, ax=ax1)\n",
    "    ax2.set_xlim(limites(coluna))\n",
    "    sns.boxplot(x=coluna, ax=ax2)\n",
    "\n",
    "#criando uma função para o histograma\n",
    "def histograma(coluna):\n",
    "    plt.figure(figsize = (15,5))\n",
    "    sns.distplot(coluna, hist = True)\n",
    "\n",
    "#criando a função de excluir outliers\n",
    "def excluir_outliers(df, nome_coluna):\n",
    "    qtde_linhas = df.shape[0]\n",
    "    lim_inf, lim_sup = limites(df[nome_coluna])\n",
    "    df = df.loc[(df[nome_coluna] >= lim_inf) & (df[nome_coluna] <= lim_sup), :]\n",
    "    linhas_removidas = qtde_linhas - df.shape[0]\n",
    "    return df, linhas_removidas"
   ]
  },
  {
   "cell_type": "code",
   "execution_count": 27,
   "id": "48cb98ae",
   "metadata": {},
   "outputs": [
    {
     "data": {
      "text/plain": [
       "17215"
      ]
     },
     "execution_count": 27,
     "metadata": {},
     "output_type": "execute_result"
    }
   ],
   "source": [
    "df_properati_std.shape[0]"
   ]
  },
  {
   "cell_type": "code",
   "execution_count": 28,
   "id": "ba07335b",
   "metadata": {
    "scrolled": true
   },
   "outputs": [
    {
     "data": {
      "image/png": "[encoded data removed]",
      "text/plain": [
       "<Figure size 1080x360 with 2 Axes>"
      ]
     },
     "metadata": {
      "needs_background": "light"
     },
     "output_type": "display_data"
    },
    {
     "data": {
      "image/png": "[encoded data removed]",
      "text/plain": [
       "<Figure size 1080x360 with 1 Axes>"
      ]
     },
     "metadata": {
      "needs_background": "light"
     },
     "output_type": "display_data"
    }
   ],
   "source": [
    "#plotando o bloxplot com preço em metro quadrado por tipo de propriedade\n",
    "diagrama_caixa(df_properati_std['price_m2'])\n",
    "#plotando o histograma\n",
    "histograma(df_properati_std['price_m2'])"
   ]
  },
  {
   "cell_type": "code",
   "execution_count": 29,
   "id": "af8679b2",
   "metadata": {},
   "outputs": [
    {
     "name": "stdout",
     "output_type": "stream",
     "text": [
      "1182 linhas removidas\n"
     ]
    }
   ],
   "source": [
    "#criando um novo DF sem os outliers\n",
    "\n",
    "df_properati_std_sout, linhas_removidas = excluir_outliers(df_properati_std, 'price_m2')\n",
    "print('{} linhas removidas'.format(linhas_removidas))"
   ]
  },
  {
   "cell_type": "code",
   "execution_count": 30,
   "id": "30e45925",
   "metadata": {},
   "outputs": [
    {
     "data": {
      "text/plain": [
       "16033"
      ]
     },
     "execution_count": 30,
     "metadata": {},
     "output_type": "execute_result"
    }
   ],
   "source": [
    "df_properati_std_sout.shape[0]"
   ]
  },
  {
   "cell_type": "code",
   "execution_count": 31,
   "id": "c6f77b66",
   "metadata": {},
   "outputs": [
    {
     "data": {
      "image/png": "[encoded data removed]",
      "text/plain": [
       "<Figure size 1080x360 with 1 Axes>"
      ]
     },
     "metadata": {
      "needs_background": "light"
     },
     "output_type": "display_data"
    }
   ],
   "source": [
    "#histograma sem outliers\n",
    "histograma(df_properati_std_sout['price_m2'])"
   ]
  },
  {
   "cell_type": "code",
   "execution_count": 32,
   "id": "3beb4245",
   "metadata": {},
   "outputs": [
    {
     "data": {
      "image/png": "[encoded data removed]",
      "text/plain": [
       "<Figure size 432x288 with 1 Axes>"
      ]
     },
     "metadata": {
      "needs_background": "light"
     },
     "output_type": "display_data"
    }
   ],
   "source": [
    "#boxplot sem outliers\n",
    "ax = sns.boxplot(x='price_m2', data=df_properati_std_sout, orient = 'h')\n"
   ]
  },
  {
   "cell_type": "code",
   "execution_count": 33,
   "id": "d77421c1",
   "metadata": {},
   "outputs": [
    {
     "name": "stdout",
     "output_type": "stream",
     "text": [
      "                          lat       lon     price  surface_total_in_m2  \\\n",
      "lat                  1.000000  0.497940  0.087240            -0.022208   \n",
      "lon                  0.497940  1.000000  0.064945             0.019912   \n",
      "price                0.087240  0.064945  1.000000             0.790691   \n",
      "surface_total_in_m2 -0.022208  0.019912  0.790691             1.000000   \n",
      "price_m2             0.280127  0.087079  0.192020            -0.163557   \n",
      "\n",
      "                     price_m2  \n",
      "lat                  0.280127  \n",
      "lon                  0.087079  \n",
      "price                0.192020  \n",
      "surface_total_in_m2 -0.163557  \n",
      "price_m2             1.000000  \n"
     ]
    }
   ],
   "source": [
    "#correlação entre as colunas\n",
    "print(df_properati_std_sout.corr())"
   ]
  },
  {
   "cell_type": "code",
   "execution_count": 34,
   "id": "b25d1b81",
   "metadata": {},
   "outputs": [
    {
     "data": {
      "text/plain": [
       "<AxesSubplot:>"
      ]
     },
     "execution_count": 34,
     "metadata": {},
     "output_type": "execute_result"
    },
    {
     "data": {
      "image/png": "[encoded data removed]",
      "text/plain": [
       "<Figure size 1080x720 with 2 Axes>"
      ]
     },
     "metadata": {
      "needs_background": "light"
     },
     "output_type": "display_data"
    }
   ],
   "source": [
    "#heatmap pós limpeza dos outliers\n",
    "plt.figure(figsize=(15,10))\n",
    "sns.heatmap(df_properati_std_sout.corr(), annot = True, cmap ='Blues')"
   ]
  },
  {
   "cell_type": "markdown",
   "id": "b826bf66",
   "metadata": {
    "jp-MarkdownHeadingCollapsed": true,
    "tags": []
   },
   "source": [
    "### Resultados pós remoção dos outliers"
   ]
  },
  {
   "cell_type": "code",
   "execution_count": 35,
   "id": "afe58847",
   "metadata": {},
   "outputs": [
    {
     "data": {
      "text/html": [
       "<div>\n",
       "<style scoped>\n",
       "    .dataframe tbody tr th:only-of-type {\n",
       "        vertical-align: middle;\n",
       "    }\n",
       "\n",
       "    .dataframe tbody tr th {\n",
       "        vertical-align: top;\n",
       "    }\n",
       "\n",
       "    .dataframe thead th {\n",
       "        text-align: right;\n",
       "    }\n",
       "</style>\n",
       "<table border=\"1\" class=\"dataframe\">\n",
       "  <thead>\n",
       "    <tr style=\"text-align: right;\">\n",
       "      <th>luxury_m2_type</th>\n",
       "      <th>super_popular</th>\n",
       "      <th>popular</th>\n",
       "    </tr>\n",
       "    <tr>\n",
       "      <th>surface_m2_type</th>\n",
       "      <th></th>\n",
       "      <th></th>\n",
       "    </tr>\n",
       "  </thead>\n",
       "  <tbody>\n",
       "    <tr>\n",
       "      <th>XP</th>\n",
       "      <td>29</td>\n",
       "      <td>50</td>\n",
       "    </tr>\n",
       "    <tr>\n",
       "      <th>P</th>\n",
       "      <td>5899</td>\n",
       "      <td>4037</td>\n",
       "    </tr>\n",
       "    <tr>\n",
       "      <th>M</th>\n",
       "      <td>2717</td>\n",
       "      <td>1748</td>\n",
       "    </tr>\n",
       "    <tr>\n",
       "      <th>G</th>\n",
       "      <td>849</td>\n",
       "      <td>342</td>\n",
       "    </tr>\n",
       "    <tr>\n",
       "      <th>GG</th>\n",
       "      <td>196</td>\n",
       "      <td>32</td>\n",
       "    </tr>\n",
       "    <tr>\n",
       "      <th>XG</th>\n",
       "      <td>61</td>\n",
       "      <td>18</td>\n",
       "    </tr>\n",
       "    <tr>\n",
       "      <th>XXG</th>\n",
       "      <td>38</td>\n",
       "      <td>3</td>\n",
       "    </tr>\n",
       "    <tr>\n",
       "      <th>XXXG</th>\n",
       "      <td>14</td>\n",
       "      <td>0</td>\n",
       "    </tr>\n",
       "  </tbody>\n",
       "</table>\n",
       "</div>"
      ],
      "text/plain": [
       "luxury_m2_type   super_popular  popular\n",
       "surface_m2_type                        \n",
       "XP                          29       50\n",
       "P                         5899     4037\n",
       "M                         2717     1748\n",
       "G                          849      342\n",
       "GG                         196       32\n",
       "XG                          61       18\n",
       "XXG                         38        3\n",
       "XXXG                        14        0"
      ]
     },
     "execution_count": 35,
     "metadata": {},
     "output_type": "execute_result"
    }
   ],
   "source": [
    "#crosstab pós limpeza dos outliers\n",
    "pd.crosstab(df_properati_std_sout.surface_m2_type, df_properati_std_sout.luxury_m2_type)"
   ]
  },
  {
   "cell_type": "code",
   "execution_count": 36,
   "id": "d2ed5a4c",
   "metadata": {},
   "outputs": [
    {
     "data": {
      "text/plain": [
       "<AxesSubplot:xlabel='property_type', ylabel='price_m2'>"
      ]
     },
     "execution_count": 36,
     "metadata": {},
     "output_type": "execute_result"
    },
    {
     "data": {
      "image/png": "[encoded data removed]",
      "text/plain": [
       "<Figure size 432x288 with 1 Axes>"
      ]
     },
     "metadata": {
      "needs_background": "light"
     },
     "output_type": "display_data"
    }
   ],
   "source": [
    "group_property_type_m2 = df_properati_std_sout.groupby(['property_type']).price_m2.mean().sort_values()\n",
    "ax = sns.scatterplot(data = group_property_type_m2) \n",
    "plt.xticks(rotation=0)\n",
    "ax"
   ]
  },
  {
   "cell_type": "code",
   "execution_count": 37,
   "id": "dad6699f",
   "metadata": {},
   "outputs": [
    {
     "data": {
      "text/plain": [
       "<AxesSubplot:xlabel='place_name', ylabel='price_m2'>"
      ]
     },
     "execution_count": 37,
     "metadata": {},
     "output_type": "execute_result"
    },
    {
     "data": {
      "image/png": "[encoded data removed]",
      "text/plain": [
       "<Figure size 1080x360 with 1 Axes>"
      ]
     },
     "metadata": {
      "needs_background": "light"
     },
     "output_type": "display_data"
    }
   ],
   "source": [
    "group_place_m2 = df_properati_std_sout.groupby(['place_name']).price_m2.mean().sort_values()\n",
    "ax = sns.scatterplot(data = group_place_m2) \n",
    "ax.figure.set_size_inches(15, 5)\n",
    "plt.xticks(rotation=75)\n",
    "ax"
   ]
  },
  {
   "cell_type": "code",
   "execution_count": 38,
   "id": "119282d2",
   "metadata": {},
   "outputs": [
    {
     "data": {
      "text/plain": [
       "<AxesSubplot:xlabel='surface_m2_type', ylabel='price_m2'>"
      ]
     },
     "execution_count": 38,
     "metadata": {},
     "output_type": "execute_result"
    },
    {
     "data": {
      "image/png": "[encoded data removed]",
      "text/plain": [
       "<Figure size 1080x360 with 2 Axes>"
      ]
     },
     "metadata": {
      "needs_background": "light"
     },
     "output_type": "display_data"
    }
   ],
   "source": [
    "fig, axes = plt.subplots(1, 2, sharex=False, figsize=(15,5))\n",
    "\n",
    "sns.histplot(ax=axes[0], data = df_properati_std_sout.surface_m2_type)\n",
    "\n",
    "sns.histplot(ax=axes[1], data = df_properati_std_sout,  \n",
    "             x = 'surface_m2_type',\n",
    "             y = 'price_m2')"
   ]
  },
  {
   "cell_type": "code",
   "execution_count": 39,
   "id": "3cf6209b",
   "metadata": {},
   "outputs": [
    {
     "data": {
      "text/plain": [
       "<AxesSubplot:title={'center':'Propiedade'}, xlabel='Tipo de Propriedade', ylabel='Preço do m2'>"
      ]
     },
     "execution_count": 39,
     "metadata": {},
     "output_type": "execute_result"
    },
    {
     "data": {
      "image/png": "[encoded data removed]",
      "text/plain": [
       "<Figure size 1440x720 with 1 Axes>"
      ]
     },
     "metadata": {
      "needs_background": "light"
     },
     "output_type": "display_data"
    }
   ],
   "source": [
    "ax = sns.boxplot(x='property_type', y='price_m2', data=df_properati_std_sout, hue='surface_m2_type')\n",
    "ax.figure.set_size_inches(20, 10)\n",
    "ax.set_title('Propiedade', fontsize=18)\n",
    "ax.set_xlabel('Tipo de Propriedade', fontsize=14)\n",
    "ax.set_ylabel('Preço do m2', fontsize=14)\n",
    "plt.xticks(rotation=0)\n",
    "ax"
   ]
  },
  {
   "cell_type": "code",
   "execution_count": 40,
   "id": "089eda23",
   "metadata": {},
   "outputs": [
    {
     "data": {
      "text/plain": [
       "62"
      ]
     },
     "execution_count": 40,
     "metadata": {},
     "output_type": "execute_result"
    }
   ],
   "source": [
    "len(df_properati_std_sout.place_name.unique())"
   ]
  },
  {
   "cell_type": "markdown",
   "id": "306a2931-ff84-4400-b27b-10a11e4ce54c",
   "metadata": {},
   "source": [
    "### Parte 2 TP"
   ]
  },
  {
   "cell_type": "code",
   "execution_count": 58,
   "id": "be1b63bb-6913-49fe-8c02-1afcc87417c8",
   "metadata": {},
   "outputs": [
    {
     "data": {
      "text/plain": [
       "' \\n\\nData Frames que serão analizados \\n\\ndf_properati_std = dataframe com OUTLIERS\\n\\ndf_properati_std_sout = dataframe sem OUTLIERS\\n\\n'"
      ]
     },
     "execution_count": 58,
     "metadata": {},
     "output_type": "execute_result"
    }
   ],
   "source": [
    "\"\"\" \n",
    "Data Frames que serão analizados \n",
    "\n",
    "df_properati_std = dataframe com OUTLIERS\n",
    "\n",
    "df_properati_std_sout = dataframe sem OUTLIERS\n",
    "\n",
    "\"\"\""
   ]
  },
  {
   "cell_type": "markdown",
   "id": "0dd34313-0b77-4a93-bfe6-5ec063be7d66",
   "metadata": {
    "tags": []
   },
   "source": [
    "### Modelo 1"
   ]
  },
  {
   "cell_type": "code",
   "execution_count": 79,
   "id": "799b381d-6da2-439c-8658-22e8cc24956b",
   "metadata": {},
   "outputs": [
    {
     "name": "stdout",
     "output_type": "stream",
     "text": [
      "Shape X: (16033, 2)\n",
      "Type X: <class 'pandas.core.frame.DataFrame'>\n",
      "Shape y: (16033,)\n",
      "Type y: <class 'pandas.core.series.Series'>\n"
     ]
    }
   ],
   "source": [
    "### Treinamento para ML\n",
    "\n",
    "# Criamos X e y\n",
    "feature_cols = ['price', 'surface_total_in_m2']\n",
    "X = df_properati_std_sout[feature_cols]\n",
    "y = df_properati_std_sout.price_m2\n",
    "\n",
    "# Checamos a forma e o tipo de cada um\n",
    "print(\"Shape X:\", X.shape)\n",
    "print(\"Type X:\", type(X))\n",
    "print(\"Shape y:\", y.shape)\n",
    "print(\"Type y:\", type(y))"
   ]
  },
  {
   "cell_type": "code",
   "execution_count": 80,
   "id": "49d13c00-c72e-44f1-956e-54ed3cb201e4",
   "metadata": {},
   "outputs": [],
   "source": [
    "#from sklearn.model_selection import train_test_split\n",
    "Xtrain, Xtest, ytrain, ytest = train_test_split(X, y, random_state = 1)"
   ]
  },
  {
   "cell_type": "code",
   "execution_count": 81,
   "id": "46f508f5-313c-4fd1-97fb-b3500bc8249f",
   "metadata": {},
   "outputs": [
    {
     "data": {
      "text/html": [
       "<style>#sk-container-id-3 {color: black;background-color: white;}#sk-container-id-3 pre{padding: 0;}#sk-container-id-3 div.sk-toggleable {background-color: white;}#sk-container-id-3 label.sk-toggleable__label {cursor: pointer;display: block;width: 100%;margin-bottom: 0;padding: 0.3em;box-sizing: border-box;text-align: center;}#sk-container-id-3 label.sk-toggleable__label-arrow:before {content: \"▸\";float: left;margin-right: 0.25em;color: #696969;}#sk-container-id-3 label.sk-toggleable__label-arrow:hover:before {color: black;}#sk-container-id-3 div.sk-estimator:hover label.sk-toggleable__label-arrow:before {color: black;}#sk-container-id-3 div.sk-toggleable__content {max-height: 0;max-width: 0;overflow: hidden;text-align: left;background-color: #f0f8ff;}#sk-container-id-3 div.sk-toggleable__content pre {margin: 0.2em;color: black;border-radius: 0.25em;background-color: #f0f8ff;}#sk-container-id-3 input.sk-toggleable__control:checked~div.sk-toggleable__content {max-height: 200px;max-width: 100%;overflow: auto;}#sk-container-id-3 input.sk-toggleable__control:checked~label.sk-toggleable__label-arrow:before {content: \"▾\";}#sk-container-id-3 div.sk-estimator input.sk-toggleable__control:checked~label.sk-toggleable__label {background-color: #d4ebff;}#sk-container-id-3 div.sk-label input.sk-toggleable__control:checked~label.sk-toggleable__label {background-color: #d4ebff;}#sk-container-id-3 input.sk-hidden--visually {border: 0;clip: rect(1px 1px 1px 1px);clip: rect(1px, 1px, 1px, 1px);height: 1px;margin: -1px;overflow: hidden;padding: 0;position: absolute;width: 1px;}#sk-container-id-3 div.sk-estimator {font-family: monospace;background-color: #f0f8ff;border: 1px dotted black;border-radius: 0.25em;box-sizing: border-box;margin-bottom: 0.5em;}#sk-container-id-3 div.sk-estimator:hover {background-color: #d4ebff;}#sk-container-id-3 div.sk-parallel-item::after {content: \"\";width: 100%;border-bottom: 1px solid gray;flex-grow: 1;}#sk-container-id-3 div.sk-label:hover label.sk-toggleable__label {background-color: #d4ebff;}#sk-container-id-3 div.sk-serial::before {content: \"\";position: absolute;border-left: 1px solid gray;box-sizing: border-box;top: 0;bottom: 0;left: 50%;z-index: 0;}#sk-container-id-3 div.sk-serial {display: flex;flex-direction: column;align-items: center;background-color: white;padding-right: 0.2em;padding-left: 0.2em;position: relative;}#sk-container-id-3 div.sk-item {position: relative;z-index: 1;}#sk-container-id-3 div.sk-parallel {display: flex;align-items: stretch;justify-content: center;background-color: white;position: relative;}#sk-container-id-3 div.sk-item::before, #sk-container-id-3 div.sk-parallel-item::before {content: \"\";position: absolute;border-left: 1px solid gray;box-sizing: border-box;top: 0;bottom: 0;left: 50%;z-index: -1;}#sk-container-id-3 div.sk-parallel-item {display: flex;flex-direction: column;z-index: 1;position: relative;background-color: white;}#sk-container-id-3 div.sk-parallel-item:first-child::after {align-self: flex-end;width: 50%;}#sk-container-id-3 div.sk-parallel-item:last-child::after {align-self: flex-start;width: 50%;}#sk-container-id-3 div.sk-parallel-item:only-child::after {width: 0;}#sk-container-id-3 div.sk-dashed-wrapped {border: 1px dashed gray;margin: 0 0.4em 0.5em 0.4em;box-sizing: border-box;padding-bottom: 0.4em;background-color: white;}#sk-container-id-3 div.sk-label label {font-family: monospace;font-weight: bold;display: inline-block;line-height: 1.2em;}#sk-container-id-3 div.sk-label-container {text-align: center;}#sk-container-id-3 div.sk-container {/* jupyter's `normalize.less` sets `[hidden] { display: none; }` but bootstrap.min.css set `[hidden] { display: none !important; }` so we also need the `!important` here to be able to override the default hidden behavior on the sphinx rendered scikit-learn.org. See: https://github.com/scikit-learn/scikit-learn/issues/21755 */display: inline-block !important;position: relative;}#sk-container-id-3 div.sk-text-repr-fallback {display: none;}</style><div id=\"sk-container-id-3\" class=\"sk-top-container\"><div class=\"sk-text-repr-fallback\"><pre>LinearRegression()</pre><b>In a Jupyter environment, please rerun this cell to show the HTML representation or trust the notebook. <br />On GitHub, the HTML representation is unable to render, please try loading this page with nbviewer.org.</b></div><div class=\"sk-container\" hidden><div class=\"sk-item\"><div class=\"sk-estimator sk-toggleable\"><input class=\"sk-toggleable__control sk-hidden--visually\" id=\"sk-estimator-id-3\" type=\"checkbox\" checked><label for=\"sk-estimator-id-3\" class=\"sk-toggleable__label sk-toggleable__label-arrow\">LinearRegression</label><div class=\"sk-toggleable__content\"><pre>LinearRegression()</pre></div></div></div></div></div>"
      ],
      "text/plain": [
       "LinearRegression()"
      ]
     },
     "execution_count": 81,
     "metadata": {},
     "output_type": "execute_result"
    }
   ],
   "source": [
    "#from sklearn.linear_model import LinearRegression\n",
    "\n",
    "model = LinearRegression(fit_intercept = True)\n",
    "model\n",
    "\n",
    "model.fit(Xtrain, ytrain)"
   ]
  },
  {
   "cell_type": "code",
   "execution_count": 82,
   "id": "89763e7f-44dd-4206-aaab-857f3857a5ad",
   "metadata": {},
   "outputs": [
    {
     "name": "stdout",
     "output_type": "stream",
     "text": [
      "[ 2.65899931e-03 -3.55950600e+00] 2110.2432237962466\n"
     ]
    }
   ],
   "source": [
    "print(model.coef_, model.intercept_)"
   ]
  },
  {
   "cell_type": "code",
   "execution_count": 83,
   "id": "4c196b54-278c-4a9d-9dc4-e3235c13f4ae",
   "metadata": {},
   "outputs": [
    {
     "data": {
      "text/plain": [
       "array([2430.42819396, 2184.14243473, 2211.67545532, ..., 2266.27376816,\n",
       "       2303.13458157, 2093.90654109])"
      ]
     },
     "execution_count": 83,
     "metadata": {},
     "output_type": "execute_result"
    }
   ],
   "source": [
    "# Usando o método do objeto\n",
    "test_sklearn = np.array(Xtest)\n",
    "model.predict(test_sklearn)"
   ]
  },
  {
   "cell_type": "code",
   "execution_count": 84,
   "id": "aa5eabfd-6efd-4694-8a89-7299a0fe8bc8",
   "metadata": {},
   "outputs": [
    {
     "data": {
      "text/plain": [
       "array([2430.42819396, 2184.14243473, 2211.67545532, ..., 2266.27376816,\n",
       "       2303.13458157, 2093.90654109])"
      ]
     },
     "execution_count": 84,
     "metadata": {},
     "output_type": "execute_result"
    }
   ],
   "source": [
    "ypred = model.predict(Xtest)\n",
    "ypred"
   ]
  },
  {
   "cell_type": "code",
   "execution_count": 85,
   "id": "97aa81ef-278c-4660-abeb-62cfc620b5f6",
   "metadata": {},
   "outputs": [
    {
     "name": "stdout",
     "output_type": "stream",
     "text": [
      "MAE: 520.07\n",
      "MSE: 455394.23\n",
      "RMSE: 674.83\n",
      "R2: 0.32\n"
     ]
    }
   ],
   "source": [
    "#from sklearn.metrics import mean_absolute_error, mean_squared_error, r2_score\n",
    "\n",
    "print ('MAE:', mean_absolute_error(ytest, ypred).round(2))\n",
    "print ('MSE:', mean_squared_error(ytest, ypred).round(2))\n",
    "print ('RMSE:', np.sqrt(mean_squared_error(ytest, ypred)).round(2))\n",
    "print ('R2:', r2_score(ytest, ypred).round(2))"
   ]
  },
  {
   "cell_type": "code",
   "execution_count": 48,
   "id": "53d276d9-fdc8-408f-ad2e-5c6231056b0f",
   "metadata": {},
   "outputs": [],
   "source": [
    "#from sklearn.metrics import accuracy_score\n",
    "#accuracy_score(ytest, ypred)"
   ]
  },
  {
   "cell_type": "markdown",
   "id": "882a79a5-311b-42e8-b063-6d5748b2c147",
   "metadata": {
    "tags": []
   },
   "source": [
    "### Modelo 2 "
   ]
  },
  {
   "cell_type": "code",
   "execution_count": 49,
   "id": "4cba82df-2d7e-4410-b2ee-70086ed2f8ae",
   "metadata": {
    "tags": []
   },
   "outputs": [],
   "source": [
    "## Fazendo a Regressão linear Simples com os outliears\n",
    "\n",
    "df = pd.get_dummies(df_properati_std, drop_first = True)"
   ]
  },
  {
   "cell_type": "code",
   "execution_count": 77,
   "id": "eafa91e4-d9b8-419f-8f13-87058fa1270c",
   "metadata": {
    "collapsed": true,
    "jupyter": {
     "outputs_hidden": true
    },
    "tags": []
   },
   "outputs": [
    {
     "data": {
      "text/html": [
       "<div>\n",
       "<style scoped>\n",
       "    .dataframe tbody tr th:only-of-type {\n",
       "        vertical-align: middle;\n",
       "    }\n",
       "\n",
       "    .dataframe tbody tr th {\n",
       "        vertical-align: top;\n",
       "    }\n",
       "\n",
       "    .dataframe thead th {\n",
       "        text-align: right;\n",
       "    }\n",
       "</style>\n",
       "<table border=\"1\" class=\"dataframe\">\n",
       "  <thead>\n",
       "    <tr style=\"text-align: right;\">\n",
       "      <th></th>\n",
       "      <th>lat</th>\n",
       "      <th>lon</th>\n",
       "      <th>price</th>\n",
       "      <th>surface_total_in_m2</th>\n",
       "      <th>price_m2</th>\n",
       "      <th>property_type_apartment</th>\n",
       "      <th>property_type_house</th>\n",
       "      <th>property_type_store</th>\n",
       "      <th>place_name_Agronomía</th>\n",
       "      <th>place_name_Almagro</th>\n",
       "      <th>...</th>\n",
       "      <th>luxury_m2_type_great</th>\n",
       "      <th>luxury_m2_type_luxury</th>\n",
       "      <th>luxury_m2_type_extreme_luxury</th>\n",
       "      <th>surface_m2_type_P</th>\n",
       "      <th>surface_m2_type_M</th>\n",
       "      <th>surface_m2_type_G</th>\n",
       "      <th>surface_m2_type_GG</th>\n",
       "      <th>surface_m2_type_XG</th>\n",
       "      <th>surface_m2_type_XXG</th>\n",
       "      <th>surface_m2_type_XXXG</th>\n",
       "    </tr>\n",
       "  </thead>\n",
       "  <tbody>\n",
       "    <tr>\n",
       "      <th>0</th>\n",
       "      <td>-34.661824</td>\n",
       "      <td>-58.508839</td>\n",
       "      <td>62000.0</td>\n",
       "      <td>55.0</td>\n",
       "      <td>1127.272727</td>\n",
       "      <td>0</td>\n",
       "      <td>0</td>\n",
       "      <td>0</td>\n",
       "      <td>0</td>\n",
       "      <td>0</td>\n",
       "      <td>...</td>\n",
       "      <td>0</td>\n",
       "      <td>0</td>\n",
       "      <td>0</td>\n",
       "      <td>1</td>\n",
       "      <td>0</td>\n",
       "      <td>0</td>\n",
       "      <td>0</td>\n",
       "      <td>0</td>\n",
       "      <td>0</td>\n",
       "      <td>0</td>\n",
       "    </tr>\n",
       "    <tr>\n",
       "      <th>1</th>\n",
       "      <td>-34.652262</td>\n",
       "      <td>-58.522982</td>\n",
       "      <td>72000.0</td>\n",
       "      <td>55.0</td>\n",
       "      <td>1309.090909</td>\n",
       "      <td>1</td>\n",
       "      <td>0</td>\n",
       "      <td>0</td>\n",
       "      <td>0</td>\n",
       "      <td>0</td>\n",
       "      <td>...</td>\n",
       "      <td>0</td>\n",
       "      <td>0</td>\n",
       "      <td>0</td>\n",
       "      <td>1</td>\n",
       "      <td>0</td>\n",
       "      <td>0</td>\n",
       "      <td>0</td>\n",
       "      <td>0</td>\n",
       "      <td>0</td>\n",
       "      <td>0</td>\n",
       "    </tr>\n",
       "    <tr>\n",
       "      <th>2</th>\n",
       "      <td>-34.559873</td>\n",
       "      <td>-58.443362</td>\n",
       "      <td>138000.0</td>\n",
       "      <td>45.0</td>\n",
       "      <td>3066.666667</td>\n",
       "      <td>1</td>\n",
       "      <td>0</td>\n",
       "      <td>0</td>\n",
       "      <td>0</td>\n",
       "      <td>0</td>\n",
       "      <td>...</td>\n",
       "      <td>0</td>\n",
       "      <td>0</td>\n",
       "      <td>0</td>\n",
       "      <td>1</td>\n",
       "      <td>0</td>\n",
       "      <td>0</td>\n",
       "      <td>0</td>\n",
       "      <td>0</td>\n",
       "      <td>0</td>\n",
       "      <td>0</td>\n",
       "    </tr>\n",
       "    <tr>\n",
       "      <th>3</th>\n",
       "      <td>-34.559873</td>\n",
       "      <td>-58.443362</td>\n",
       "      <td>195000.0</td>\n",
       "      <td>65.0</td>\n",
       "      <td>3000.000000</td>\n",
       "      <td>1</td>\n",
       "      <td>0</td>\n",
       "      <td>0</td>\n",
       "      <td>0</td>\n",
       "      <td>0</td>\n",
       "      <td>...</td>\n",
       "      <td>0</td>\n",
       "      <td>0</td>\n",
       "      <td>0</td>\n",
       "      <td>1</td>\n",
       "      <td>0</td>\n",
       "      <td>0</td>\n",
       "      <td>0</td>\n",
       "      <td>0</td>\n",
       "      <td>0</td>\n",
       "      <td>0</td>\n",
       "    </tr>\n",
       "    <tr>\n",
       "      <th>4</th>\n",
       "      <td>-34.652356</td>\n",
       "      <td>-58.501624</td>\n",
       "      <td>239000.0</td>\n",
       "      <td>140.0</td>\n",
       "      <td>1707.142857</td>\n",
       "      <td>0</td>\n",
       "      <td>0</td>\n",
       "      <td>0</td>\n",
       "      <td>0</td>\n",
       "      <td>0</td>\n",
       "      <td>...</td>\n",
       "      <td>0</td>\n",
       "      <td>0</td>\n",
       "      <td>0</td>\n",
       "      <td>0</td>\n",
       "      <td>1</td>\n",
       "      <td>0</td>\n",
       "      <td>0</td>\n",
       "      <td>0</td>\n",
       "      <td>0</td>\n",
       "      <td>0</td>\n",
       "    </tr>\n",
       "    <tr>\n",
       "      <th>...</th>\n",
       "      <td>...</td>\n",
       "      <td>...</td>\n",
       "      <td>...</td>\n",
       "      <td>...</td>\n",
       "      <td>...</td>\n",
       "      <td>...</td>\n",
       "      <td>...</td>\n",
       "      <td>...</td>\n",
       "      <td>...</td>\n",
       "      <td>...</td>\n",
       "      <td>...</td>\n",
       "      <td>...</td>\n",
       "      <td>...</td>\n",
       "      <td>...</td>\n",
       "      <td>...</td>\n",
       "      <td>...</td>\n",
       "      <td>...</td>\n",
       "      <td>...</td>\n",
       "      <td>...</td>\n",
       "      <td>...</td>\n",
       "      <td>...</td>\n",
       "    </tr>\n",
       "    <tr>\n",
       "      <th>17218</th>\n",
       "      <td>-34.599214</td>\n",
       "      <td>-58.402519</td>\n",
       "      <td>165000.0</td>\n",
       "      <td>91.0</td>\n",
       "      <td>1813.186813</td>\n",
       "      <td>1</td>\n",
       "      <td>0</td>\n",
       "      <td>0</td>\n",
       "      <td>0</td>\n",
       "      <td>0</td>\n",
       "      <td>...</td>\n",
       "      <td>0</td>\n",
       "      <td>0</td>\n",
       "      <td>0</td>\n",
       "      <td>0</td>\n",
       "      <td>1</td>\n",
       "      <td>0</td>\n",
       "      <td>0</td>\n",
       "      <td>0</td>\n",
       "      <td>0</td>\n",
       "      <td>0</td>\n",
       "    </tr>\n",
       "    <tr>\n",
       "      <th>17219</th>\n",
       "      <td>-34.587425</td>\n",
       "      <td>-58.397372</td>\n",
       "      <td>165000.0</td>\n",
       "      <td>44.0</td>\n",
       "      <td>3750.000000</td>\n",
       "      <td>1</td>\n",
       "      <td>0</td>\n",
       "      <td>0</td>\n",
       "      <td>0</td>\n",
       "      <td>0</td>\n",
       "      <td>...</td>\n",
       "      <td>0</td>\n",
       "      <td>0</td>\n",
       "      <td>0</td>\n",
       "      <td>1</td>\n",
       "      <td>0</td>\n",
       "      <td>0</td>\n",
       "      <td>0</td>\n",
       "      <td>0</td>\n",
       "      <td>0</td>\n",
       "      <td>0</td>\n",
       "    </tr>\n",
       "    <tr>\n",
       "      <th>17220</th>\n",
       "      <td>-34.563685</td>\n",
       "      <td>-58.442683</td>\n",
       "      <td>410000.0</td>\n",
       "      <td>157.0</td>\n",
       "      <td>2611.464968</td>\n",
       "      <td>1</td>\n",
       "      <td>0</td>\n",
       "      <td>0</td>\n",
       "      <td>0</td>\n",
       "      <td>0</td>\n",
       "      <td>...</td>\n",
       "      <td>0</td>\n",
       "      <td>0</td>\n",
       "      <td>0</td>\n",
       "      <td>0</td>\n",
       "      <td>1</td>\n",
       "      <td>0</td>\n",
       "      <td>0</td>\n",
       "      <td>0</td>\n",
       "      <td>0</td>\n",
       "      <td>0</td>\n",
       "    </tr>\n",
       "    <tr>\n",
       "      <th>17221</th>\n",
       "      <td>-34.563685</td>\n",
       "      <td>-58.442683</td>\n",
       "      <td>410000.0</td>\n",
       "      <td>157.0</td>\n",
       "      <td>2611.464968</td>\n",
       "      <td>1</td>\n",
       "      <td>0</td>\n",
       "      <td>0</td>\n",
       "      <td>0</td>\n",
       "      <td>0</td>\n",
       "      <td>...</td>\n",
       "      <td>0</td>\n",
       "      <td>0</td>\n",
       "      <td>0</td>\n",
       "      <td>0</td>\n",
       "      <td>1</td>\n",
       "      <td>0</td>\n",
       "      <td>0</td>\n",
       "      <td>0</td>\n",
       "      <td>0</td>\n",
       "      <td>0</td>\n",
       "    </tr>\n",
       "    <tr>\n",
       "      <th>17222</th>\n",
       "      <td>-34.570639</td>\n",
       "      <td>-58.475596</td>\n",
       "      <td>131500.0</td>\n",
       "      <td>46.0</td>\n",
       "      <td>2858.695652</td>\n",
       "      <td>1</td>\n",
       "      <td>0</td>\n",
       "      <td>0</td>\n",
       "      <td>0</td>\n",
       "      <td>0</td>\n",
       "      <td>...</td>\n",
       "      <td>0</td>\n",
       "      <td>0</td>\n",
       "      <td>0</td>\n",
       "      <td>1</td>\n",
       "      <td>0</td>\n",
       "      <td>0</td>\n",
       "      <td>0</td>\n",
       "      <td>0</td>\n",
       "      <td>0</td>\n",
       "      <td>0</td>\n",
       "    </tr>\n",
       "  </tbody>\n",
       "</table>\n",
       "<p>17215 rows × 82 columns</p>\n",
       "</div>"
      ],
      "text/plain": [
       "             lat        lon     price  surface_total_in_m2     price_m2  \\\n",
       "0     -34.661824 -58.508839   62000.0                 55.0  1127.272727   \n",
       "1     -34.652262 -58.522982   72000.0                 55.0  1309.090909   \n",
       "2     -34.559873 -58.443362  138000.0                 45.0  3066.666667   \n",
       "3     -34.559873 -58.443362  195000.0                 65.0  3000.000000   \n",
       "4     -34.652356 -58.501624  239000.0                140.0  1707.142857   \n",
       "...          ...        ...       ...                  ...          ...   \n",
       "17218 -34.599214 -58.402519  165000.0                 91.0  1813.186813   \n",
       "17219 -34.587425 -58.397372  165000.0                 44.0  3750.000000   \n",
       "17220 -34.563685 -58.442683  410000.0                157.0  2611.464968   \n",
       "17221 -34.563685 -58.442683  410000.0                157.0  2611.464968   \n",
       "17222 -34.570639 -58.475596  131500.0                 46.0  2858.695652   \n",
       "\n",
       "       property_type_apartment  property_type_house  property_type_store  \\\n",
       "0                            0                    0                    0   \n",
       "1                            1                    0                    0   \n",
       "2                            1                    0                    0   \n",
       "3                            1                    0                    0   \n",
       "4                            0                    0                    0   \n",
       "...                        ...                  ...                  ...   \n",
       "17218                        1                    0                    0   \n",
       "17219                        1                    0                    0   \n",
       "17220                        1                    0                    0   \n",
       "17221                        1                    0                    0   \n",
       "17222                        1                    0                    0   \n",
       "\n",
       "       place_name_Agronomía  place_name_Almagro  ...  luxury_m2_type_great  \\\n",
       "0                         0                   0  ...                     0   \n",
       "1                         0                   0  ...                     0   \n",
       "2                         0                   0  ...                     0   \n",
       "3                         0                   0  ...                     0   \n",
       "4                         0                   0  ...                     0   \n",
       "...                     ...                 ...  ...                   ...   \n",
       "17218                     0                   0  ...                     0   \n",
       "17219                     0                   0  ...                     0   \n",
       "17220                     0                   0  ...                     0   \n",
       "17221                     0                   0  ...                     0   \n",
       "17222                     0                   0  ...                     0   \n",
       "\n",
       "       luxury_m2_type_luxury  luxury_m2_type_extreme_luxury  \\\n",
       "0                          0                              0   \n",
       "1                          0                              0   \n",
       "2                          0                              0   \n",
       "3                          0                              0   \n",
       "4                          0                              0   \n",
       "...                      ...                            ...   \n",
       "17218                      0                              0   \n",
       "17219                      0                              0   \n",
       "17220                      0                              0   \n",
       "17221                      0                              0   \n",
       "17222                      0                              0   \n",
       "\n",
       "       surface_m2_type_P  surface_m2_type_M  surface_m2_type_G  \\\n",
       "0                      1                  0                  0   \n",
       "1                      1                  0                  0   \n",
       "2                      1                  0                  0   \n",
       "3                      1                  0                  0   \n",
       "4                      0                  1                  0   \n",
       "...                  ...                ...                ...   \n",
       "17218                  0                  1                  0   \n",
       "17219                  1                  0                  0   \n",
       "17220                  0                  1                  0   \n",
       "17221                  0                  1                  0   \n",
       "17222                  1                  0                  0   \n",
       "\n",
       "       surface_m2_type_GG  surface_m2_type_XG  surface_m2_type_XXG  \\\n",
       "0                       0                   0                    0   \n",
       "1                       0                   0                    0   \n",
       "2                       0                   0                    0   \n",
       "3                       0                   0                    0   \n",
       "4                       0                   0                    0   \n",
       "...                   ...                 ...                  ...   \n",
       "17218                   0                   0                    0   \n",
       "17219                   0                   0                    0   \n",
       "17220                   0                   0                    0   \n",
       "17221                   0                   0                    0   \n",
       "17222                   0                   0                    0   \n",
       "\n",
       "       surface_m2_type_XXXG  \n",
       "0                         0  \n",
       "1                         0  \n",
       "2                         0  \n",
       "3                         0  \n",
       "4                         0  \n",
       "...                     ...  \n",
       "17218                     0  \n",
       "17219                     0  \n",
       "17220                     0  \n",
       "17221                     0  \n",
       "17222                     0  \n",
       "\n",
       "[17215 rows x 82 columns]"
      ]
     },
     "execution_count": 77,
     "metadata": {},
     "output_type": "execute_result"
    }
   ],
   "source": [
    "df"
   ]
  },
  {
   "cell_type": "markdown",
   "id": "efabe9b5-faa7-495e-874d-6216ba2ff904",
   "metadata": {},
   "source": [
    "### Regressão Linear Simples"
   ]
  },
  {
   "cell_type": "code",
   "execution_count": 89,
   "id": "36287881-1ef4-448c-bf3b-0974e4a20718",
   "metadata": {},
   "outputs": [
    {
     "name": "stdout",
     "output_type": "stream",
     "text": [
      "Shape X: (17215, 79)\n",
      "Type X: <class 'pandas.core.frame.DataFrame'>\n",
      "Shape y: (17215,)\n",
      "Type y: <class 'pandas.core.series.Series'>\n"
     ]
    }
   ],
   "source": [
    "# Criamos X e y com o DataFrame escolhido nomeado df.\n",
    "\n",
    "feature_cols = list(df.columns[2:])\n",
    "feature_cols.remove('price_m2')\n",
    "\n",
    "X = df[feature_cols]\n",
    "y = df.price_m2 \n",
    "\n",
    "# Checamos a forma e o tipo de cada um\n",
    "print(\"Shape X:\", X.shape)\n",
    "print(\"Type X:\", type(X))\n",
    "print(\"Shape y:\", y.shape)\n",
    "print(\"Type y:\", type(y))\n",
    "\n",
    "Xtrain, Xtest, ytrain, ytest = train_test_split(X, y, random_state = 1)"
   ]
  },
  {
   "cell_type": "code",
   "execution_count": 61,
   "id": "9a4a4c43-8460-4cdf-b834-6635611ce007",
   "metadata": {
    "collapsed": true,
    "jupyter": {
     "outputs_hidden": true
    },
    "tags": []
   },
   "outputs": [
    {
     "name": "stdout",
     "output_type": "stream",
     "text": [
      "[ 8.53215336e-04 -7.94405286e-01  1.75924081e+02  9.83470215e+01\n",
      "  2.59255844e+02  1.06533753e+02  1.47730951e+02  1.65244619e+01\n",
      "  7.54526906e+01  3.43383809e+02  2.19488373e+02 -2.52959705e+02\n",
      " -1.37655986e+02  1.67038727e+02  9.01492133e+01  2.84342576e+02\n",
      "  2.00002467e+02  1.52835605e+02  1.43622268e+02  1.12354065e+02\n",
      "  2.08654262e+01 -1.12102203e+02  2.37346917e+01 -3.52398172e+01\n",
      "  5.27300213e+02 -1.15914973e+01 -1.96768577e+02  1.14770250e+02\n",
      "  6.71682216e+00  2.06014954e+02 -5.89126632e+01  3.41149522e+02\n",
      "  4.86496213e+02  2.99957739e+02  4.70340372e+02  3.71062285e+02\n",
      " -2.17782332e+02  2.14979352e+02 -7.01505317e+01  2.16471494e+02\n",
      " -4.60070717e+01 -1.98962422e+02 -3.06457911e+02  6.80699670e+02\n",
      "  3.31666627e+02  1.93759324e+02  1.31265085e+02  6.23055870e+01\n",
      "  1.76666507e+02 -1.48765174e+02  4.15266371e+00  3.95467986e+01\n",
      " -3.60735012e+00  1.39590238e+02  1.32151022e+02  1.24516016e+02\n",
      " -4.54859019e+02  9.52132891e+01  1.45635429e+02  4.50915912e+01\n",
      " -6.85933952e+01 -3.27526060e+02  2.20580054e+02  5.49466401e+02\n",
      "  1.74921658e+01  1.40537040e+02  1.04637853e+03  3.11536981e+03\n",
      "  5.41062150e+03  9.34796142e+03  1.74253113e+04  3.53146510e+04\n",
      " -2.21770086e+02 -3.89467219e+02 -7.11943279e+02 -1.15711656e+03\n",
      " -1.30941510e+03 -1.24329561e+03 -7.54556999e+02]\n"
     ]
    },
    {
     "data": {
      "text/plain": [
       "array([2949.0526705 , 3013.93302965, 2041.37909933, ..., 1824.72749415,\n",
       "       1578.72735348, 5708.58463487])"
      ]
     },
     "execution_count": 61,
     "metadata": {},
     "output_type": "execute_result"
    }
   ],
   "source": [
    "# Modelo de Regressão Linear Simples = model21\n",
    "\n",
    "model21 = LinearRegression(fit_intercept = True)\n",
    "model21\n",
    "\n",
    "model21.fit(Xtrain, ytrain)\n",
    "\n",
    "print(model21.coef_)\n",
    "\n",
    "#test_sklearn = np.array(Xtest)\n",
    "#model2.predict(test_sklearn)  ## Mesmo que ypred\n",
    "\n",
    "ypred = model21.predict(Xtest)\n",
    "ypred"
   ]
  },
  {
   "cell_type": "code",
   "execution_count": 62,
   "id": "0d852ef1-d42b-41df-b766-dafac591eb7b",
   "metadata": {},
   "outputs": [
    {
     "name": "stdout",
     "output_type": "stream",
     "text": [
      "MAE: 377.78\n",
      "MSE: 302734.4\n",
      "RMSE: 550.21\n",
      "R2: 0.92\n"
     ]
    }
   ],
   "source": [
    "print ('MAE:', mean_absolute_error(ytest, ypred).round(2))\n",
    "print ('MSE:', mean_squared_error(ytest, ypred).round(2))\n",
    "print ('RMSE:', np.sqrt(mean_squared_error(ytest, ypred)).round(2))\n",
    "print ('R2:', r2_score(ytest, ypred).round(2))"
   ]
  },
  {
   "cell_type": "code",
   "execution_count": 69,
   "id": "5bdf2bf5-93d6-45a2-93c5-1c4b86ee3d74",
   "metadata": {},
   "outputs": [
    {
     "data": {
      "text/plain": [
       "<AxesSubplot:xlabel='price_m2', ylabel='Density'>"
      ]
     },
     "execution_count": 69,
     "metadata": {},
     "output_type": "execute_result"
    },
    {
     "data": {
      "image/png": "[encoded data removed]",
      "text/plain": [
       "<Figure size 432x288 with 1 Axes>"
      ]
     },
     "metadata": {
      "needs_background": "light"
     },
     "output_type": "display_data"
    }
   ],
   "source": [
    "sns.distplot(ytest - ypred)"
   ]
  },
  {
   "cell_type": "code",
   "execution_count": 78,
   "id": "955f74cc-e586-4926-a60d-2c6f80a8920a",
   "metadata": {},
   "outputs": [
    {
     "data": {
      "text/plain": [
       "<AxesSubplot:ylabel='price_m2'>"
      ]
     },
     "execution_count": 78,
     "metadata": {},
     "output_type": "execute_result"
    },
    {
     "data": {
      "image/png": "[encoded data removed]",
      "text/plain": [
       "<Figure size 432x288 with 1 Axes>"
      ]
     },
     "metadata": {
      "needs_background": "light"
     },
     "output_type": "display_data"
    }
   ],
   "source": [
    "sns.scatterplot(y=ytest, x=ypred)"
   ]
  },
  {
   "cell_type": "markdown",
   "id": "ad551e66-00e1-429f-b4cf-a28879bd9814",
   "metadata": {},
   "source": [
    "### Regressão Linear Ridge"
   ]
  },
  {
   "cell_type": "code",
   "execution_count": 110,
   "id": "903c550d-62bc-4332-8205-8cf5fdf06904",
   "metadata": {},
   "outputs": [
    {
     "name": "stdout",
     "output_type": "stream",
     "text": [
      "MAE: 368.82\n",
      "MSE: 286089.83\n",
      "RMSE: 534.87\n",
      "R2: 0.926653\n"
     ]
    }
   ],
   "source": [
    "# Modelo de Regressão Linear Ridge = model22\n",
    "\n",
    "alpha = 1.5\n",
    "model22 = Ridge(alpha=alpha)\n",
    "\n",
    "model22.fit(Xtrain, ytrain)\n",
    "\n",
    "ypred_ridge = model22.predict(Xtest)\n",
    "\n",
    "#print(model22.coef_, model22.intercept_)\n",
    "\n",
    "print ('MAE:', mean_absolute_error(ytest, ypred_ridge).round(2))\n",
    "print ('MSE:', mean_squared_error(ytest, ypred_ridge).round(2))\n",
    "print ('RMSE:', np.sqrt(mean_squared_error(ytest, ypred_ridge)).round(2))\n",
    "print(\"R2: %f\" % r2_score(ytest, ypred_ridge))\n"
   ]
  },
  {
   "cell_type": "markdown",
   "id": "7aa5129f-9afe-4eaa-a810-2e9eaa413362",
   "metadata": {},
   "source": [
    "### Regressão Linear Lasso"
   ]
  },
  {
   "cell_type": "code",
   "execution_count": 111,
   "id": "e4db2af6-79b8-49ef-a0d0-6e90acf68447",
   "metadata": {},
   "outputs": [
    {
     "name": "stdout",
     "output_type": "stream",
     "text": [
      "MAE: 377.72\n",
      "MSE: 302545.83\n",
      "RMSE: 550.04\n",
      "R2: 0.922434\n"
     ]
    }
   ],
   "source": [
    "# Modelo de Regressão Linear Lasso = model23\n",
    "\n",
    "#from sklearn import linear_model\n",
    "\n",
    "alpha = 0.01\n",
    "model23 = Lasso(alpha=alpha)\n",
    "\n",
    "model23.fit(Xtrain, ytrain)\n",
    "\n",
    "ypred_lasso = model23.predict(Xtest)\n",
    "\n",
    "#print('Coeficientes: ', model23.coef_)\n",
    "\n",
    "print ('MAE:', mean_absolute_error(ytest, ypred_lasso).round(2))\n",
    "print ('MSE:', mean_squared_error(ytest, ypred_lasso).round(2))\n",
    "print ('RMSE:', np.sqrt(mean_squared_error(ytest, ypred_lasso)).round(2))\n",
    "print(\"R2: %f\" % r2_score(ytest, ypred_lasso))\n"
   ]
  },
  {
   "cell_type": "code",
   "execution_count": 112,
   "id": "06712392-760b-42b3-87aa-f20041ff14cc",
   "metadata": {},
   "outputs": [
    {
     "name": "stdout",
     "output_type": "stream",
     "text": [
      "MAE: 373.2\n",
      "MSE: 290412.34\n",
      "RMSE: 538.9\n",
      "R2: 0.925544\n"
     ]
    }
   ],
   "source": [
    "# Modelo de Regressão Linear ElasticNet = model24\n",
    "\n",
    "#from sklearn import linear_model\n",
    "\n",
    "alpha = 0.0001\n",
    "model24 = ElasticNet(alpha=alpha) #, l1_ratio=0.7)\n",
    "\n",
    "model24.fit(Xtrain, ytrain)\n",
    "\n",
    "ypred_enet = model24.predict(Xtest)\n",
    "\n",
    "#print('Coeficientes: ', model23.coef_)\n",
    "\n",
    "print ('MAE:', mean_absolute_error(ytest, ypred_enet).round(2))\n",
    "print ('MSE:', mean_squared_error(ytest, ypred_enet).round(2))\n",
    "print ('RMSE:', np.sqrt(mean_squared_error(ytest, ypred_enet)).round(2))\n",
    "print(\"R2: %f\" % r2_score(ytest, ypred_enet))"
   ]
  },
  {
   "cell_type": "code",
   "execution_count": 70,
   "id": "e5e519f1-c7e2-4c66-9ca5-c0c91dae43c9",
   "metadata": {},
   "outputs": [
    {
     "data": {
      "text/plain": [
       "<AxesSubplot:xlabel='price_m2', ylabel='Density'>"
      ]
     },
     "execution_count": 70,
     "metadata": {},
     "output_type": "execute_result"
    },
    {
     "data": {
      "image/png": "[encoded data removed]",
      "text/plain": [
       "<Figure size 432x288 with 1 Axes>"
      ]
     },
     "metadata": {
      "needs_background": "light"
     },
     "output_type": "display_data"
    }
   ],
   "source": [
    "sns.distplot(ytest - ypred_lasso)"
   ]
  },
  {
   "cell_type": "code",
   "execution_count": 76,
   "id": "f9504b43-05af-4ca4-ad1e-a12a6494ca72",
   "metadata": {},
   "outputs": [
    {
     "ename": "NameError",
     "evalue": "name 'm' is not defined",
     "output_type": "error",
     "traceback": [
      "\u001b[1;31m---------------------------------------------------------------------------\u001b[0m",
      "\u001b[1;31mNameError\u001b[0m                                 Traceback (most recent call last)",
      "Input \u001b[1;32mIn [76]\u001b[0m, in \u001b[0;36m<cell line: 10>\u001b[1;34m()\u001b[0m\n\u001b[0;32m      1\u001b[0m \u001b[38;5;124;03m\"\"\"\u001b[39;00m\n\u001b[0;32m      2\u001b[0m \u001b[38;5;124;03mm, s, _ = plt.stem(\u001b[39;00m\n\u001b[0;32m      3\u001b[0m \u001b[38;5;124;03m    np.where(enet.coef_)[0],\u001b[39;00m\n\u001b[1;32m   (...)\u001b[0m\n\u001b[0;32m      8\u001b[0m \u001b[38;5;124;03m)\u001b[39;00m\n\u001b[0;32m      9\u001b[0m \u001b[38;5;124;03m\"\"\"\u001b[39;00m\n\u001b[1;32m---> 10\u001b[0m plt\u001b[38;5;241m.\u001b[39msetp([\u001b[43mm\u001b[49m, s], color\u001b[38;5;241m=\u001b[39m\u001b[38;5;124m\"\u001b[39m\u001b[38;5;124m#2ca02c\u001b[39m\u001b[38;5;124m\"\u001b[39m)\n\u001b[0;32m     11\u001b[0m m, s, _ \u001b[38;5;241m=\u001b[39m plt\u001b[38;5;241m.\u001b[39mstem(\n\u001b[0;32m     12\u001b[0m     np\u001b[38;5;241m.\u001b[39mwhere(model23\u001b[38;5;241m.\u001b[39mcoef_)[\u001b[38;5;241m0\u001b[39m],\n\u001b[0;32m     13\u001b[0m     model23\u001b[38;5;241m.\u001b[39mcoef_[model23\u001b[38;5;241m.\u001b[39mcoef_ \u001b[38;5;241m!=\u001b[39m \u001b[38;5;241m0\u001b[39m],\n\u001b[1;32m   (...)\u001b[0m\n\u001b[0;32m     16\u001b[0m     use_line_collection\u001b[38;5;241m=\u001b[39m\u001b[38;5;28;01mTrue\u001b[39;00m,\n\u001b[0;32m     17\u001b[0m )\n\u001b[0;32m     18\u001b[0m plt\u001b[38;5;241m.\u001b[39msetp([m, s], color\u001b[38;5;241m=\u001b[39m\u001b[38;5;124m\"\u001b[39m\u001b[38;5;124m#ff7f0e\u001b[39m\u001b[38;5;124m\"\u001b[39m)\n",
      "\u001b[1;31mNameError\u001b[0m: name 'm' is not defined"
     ]
    }
   ],
   "source": [
    "\"\"\"\n",
    "m, s, _ = plt.stem(\n",
    "    np.where(enet.coef_)[0],\n",
    "    enet.coef_[enet.coef_ != 0],\n",
    "    markerfmt=\"x\",\n",
    "    label=\"Elastic net coefficients\",\n",
    "    use_line_collection=True,\n",
    ")\n",
    "\"\"\"\n",
    "plt.setp([m, s], color=\"#2ca02c\")\n",
    "m, s, _ = plt.stem(\n",
    "    np.where(model23.coef_)[0],\n",
    "    model23.coef_[model23.coef_ != 0],\n",
    "    markerfmt=\"x\",\n",
    "    label=\"Lasso coefficients\",\n",
    "    use_line_collection=True,\n",
    ")\n",
    "plt.setp([m, s], color=\"#ff7f0e\")\n",
    "plt.stem(\n",
    "    np.where(coef)[0],\n",
    "    coef[coef != 0],\n",
    "    label=\"true coefficients\",\n",
    "    markerfmt=\"bx\",\n",
    "    use_line_collection=True,\n",
    ")\n",
    "\n",
    "plt.legend(loc=\"best\")\n",
    "plt.title(\n",
    "    \"Lasso $R^2$: %.3f, Elastic Net $R^2$: %.3f\" % (r2_score_lasso, r2_score_enet)\n",
    ")\n",
    "plt.show()"
   ]
  },
  {
   "cell_type": "code",
   "execution_count": 57,
   "id": "842d1454-2fd6-4f72-aec6-63118e328f47",
   "metadata": {},
   "outputs": [],
   "source": [
    "#sns.scatterplot(data = ypred)\n",
    "#sns.lineplot(data = df_properati_std['price_m2'])"
   ]
  }
 ],
 "metadata": {
  "kernelspec": {
   "display_name": "Python 3 (ipykernel)",
   "language": "python",
   "name": "python3"
  },
  "language_info": {
   "codemirror_mode": {
    "name": "ipython",
    "version": 3
   },
   "file_extension": ".py",
   "mimetype": "text/x-python",
   "name": "python",
   "nbconvert_exporter": "python",
   "pygments_lexer": "ipython3",
   "version": "3.9.12"
  }
 },
 "nbformat": 4,
 "nbformat_minor": 5
}
